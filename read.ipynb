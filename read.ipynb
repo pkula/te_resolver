{
 "cells": [
  {
   "cell_type": "markdown",
   "id": "8aa228f6-1f9e-446b-bd3a-944ac913bc3e",
   "metadata": {},
   "source": [
    "# "
   ]
  },
  {
   "cell_type": "markdown",
   "id": "b56d31e2-34ca-480e-a32b-d70d6e6a3031",
   "metadata": {},
   "source": []
  },
  {
   "cell_type": "code",
   "execution_count": 1,
   "id": "899f03ac-d610-44cc-a35b-d8574027644c",
   "metadata": {},
   "outputs": [],
   "source": [
    "import pandas as pd\n",
    "from bioinfokit.analys import Fasta\n",
    "import os"
   ]
  },
  {
   "cell_type": "code",
   "execution_count": 2,
   "id": "fe2261af-9c56-4400-aeab-d929eb4d76c8",
   "metadata": {},
   "outputs": [],
   "source": [
    "ont = [\"K10B\", \"K10f\", \"LK_1.3.fasta\"]\n",
    "genome = \"\"\n",
    "te = \"Alex1_Alex3.fasta\""
   ]
  },
  {
   "cell_type": "code",
   "execution_count": 3,
   "id": "0f12a518-f50d-4a37-8810-9c791a61401e",
   "metadata": {},
   "outputs": [
    {
     "name": "stderr",
     "output_type": "stream",
     "text": [
      "[E::stk_seq] failed to open the input file/stream.\n"
     ]
    },
    {
     "name": "stdout",
     "output_type": "stream",
     "text": [
      "\n",
      "\n",
      "Building a new DB, current time: 03/25/2024 13:14:32\n",
      "New DB name:   /home/kiki/data/ont/K10B\n",
      "New DB title:  ont/K10B.fasta\n",
      "Sequence type: Nucleotide\n",
      "Keep MBits: T\n",
      "Maximum file size: 1000000000B\n",
      "Adding sequences from FASTA; added 6939343 sequences in 334.228 seconds.\n",
      "\n",
      "\n",
      "\n",
      "\n",
      "Building a new DB, current time: 03/25/2024 13:20:08\n",
      "New DB name:   /home/kiki/data/ont/K10f\n",
      "New DB title:  ont/K10f.fasta\n",
      "Sequence type: Nucleotide\n",
      "Keep MBits: T\n",
      "Maximum file size: 1000000000B\n",
      "Adding sequences from FASTA; added 4775182 sequences in 232.108 seconds.\n",
      "\n",
      "\n",
      "\n",
      "\n",
      "Building a new DB, current time: 03/25/2024 13:24:01\n",
      "New DB name:   /home/kiki/data/ont/LK_1.3.fasta\n",
      "New DB title:  ont/LK_1.3.fasta.fasta\n",
      "Sequence type: Nucleotide\n",
      "Keep MBits: T\n",
      "Maximum file size: 1000000000B\n"
     ]
    },
    {
     "name": "stderr",
     "output_type": "stream",
     "text": [
      "BLAST options error: File ont/LK_1.3.fasta.fasta is empty\n",
      "Warning: [blastn] Number of threads was reduced to 8 to match the number of available CPUs\n",
      "FASTA-Reader: Ignoring invalid residues at position(s): On line 109: 14-60\n",
      "FASTA-Reader: Ignoring invalid residues at position(s): On line 110: 1-60\n",
      "FASTA-Reader: Ignoring invalid residues at position(s): On line 111: 1-47\n",
      "FASTA-Reader: Ignoring invalid residues at position(s): On line 114: 45-60\n",
      "FASTA-Reader: Ignoring invalid residues at position(s): On line 115: 1-60\n",
      "FASTA-Reader: Ignoring invalid residues at position(s): On line 116: 1-17\n",
      "FASTA-Reader: Ignoring invalid residues at position(s): On line 142: 15-60\n",
      "FASTA-Reader: Ignoring invalid residues at position(s): On line 143: 1-60\n",
      "FASTA-Reader: Ignoring invalid residues at position(s): On line 144: 1-60\n",
      "FASTA-Reader: Ignoring invalid residues at position(s): On line 145: 1-42\n",
      "Warning: [blastn] Number of threads was reduced to 8 to match the number of available CPUs\n",
      "FASTA-Reader: Ignoring invalid residues at position(s): On line 109: 14-60\n",
      "FASTA-Reader: Ignoring invalid residues at position(s): On line 110: 1-60\n",
      "FASTA-Reader: Ignoring invalid residues at position(s): On line 111: 1-47\n",
      "FASTA-Reader: Ignoring invalid residues at position(s): On line 114: 45-60\n",
      "FASTA-Reader: Ignoring invalid residues at position(s): On line 115: 1-60\n",
      "FASTA-Reader: Ignoring invalid residues at position(s): On line 116: 1-17\n",
      "FASTA-Reader: Ignoring invalid residues at position(s): On line 142: 15-60\n",
      "FASTA-Reader: Ignoring invalid residues at position(s): On line 143: 1-60\n",
      "FASTA-Reader: Ignoring invalid residues at position(s): On line 144: 1-60\n",
      "FASTA-Reader: Ignoring invalid residues at position(s): On line 145: 1-42\n",
      "Warning: [blastn] Number of threads was reduced to 8 to match the number of available CPUs\n",
      "BLAST Database error: No alias or index file found for nucleotide database [ont/LK_1.3.fasta] in search path [/home/kiki/data::]\n"
     ]
    }
   ],
   "source": [
    "for file in ont:\n",
    "    os.system(f\"seqtk seq -a ont/{file}.fastq.gz > ont/{file}.fasta\")\n",
    "#!seqtk seq -a ont/K10B.fastq.gz > ont/K10B.fasta\n",
    "for file in ont:\n",
    "    os.system(f\"makeblastdb -in ont/{file}.fasta -dbtype nucl -out ont/{file}\")\n",
    "#!makeblastdb -in ont/K10B.fasta -dbtype nucl -out ont/K10B\n",
    "!mkdir -p blast\n",
    "for file in ont:\n",
    "    os.system(f\"blastn -num_threads 20 -outfmt 6 -query te/{te} -db ont/{file} -out blast/TE_{file}.bl -dust no -perc_identity 0.9\")\n",
    "#!blastn -num_threads 20 -outfmt 6 -query te/Alex1_Alex3.fasta -db ont/K10B -out blast/Alex_K10B.bl -dust no -perc_identity 0.9"
   ]
  },
  {
   "cell_type": "code",
   "execution_count": 3,
   "id": "06ddf88f-d701-49bf-b227-08cb2b6813c0",
   "metadata": {},
   "outputs": [],
   "source": [
    "headers = ['qseqid', 'sseqid',  'pident', 'length', 'mismatch', 'gapopen', 'qstart', 'qend', 'sstart', 'send', 'expect value', 'bitscore']"
   ]
  },
  {
   "cell_type": "code",
   "execution_count": 4,
   "id": "6b7182f8-9ecc-43d9-ba3e-b7e7949eccfe",
   "metadata": {},
   "outputs": [],
   "source": [
    "headers_dict = {i[0]:i[1] for i in enumerate(headers)}"
   ]
  },
  {
   "cell_type": "code",
   "execution_count": 5,
   "id": "f9b47b71-3031-4dbe-b2c1-7ef44b19ce74",
   "metadata": {},
   "outputs": [],
   "source": [
    "def read_fasta(filename):\n",
    "    return pd.read_csv(filename, sep=\"\\t\", header=None).rename(headers_dict, axis=1)\n",
    "def save_fasta(df, filename):\n",
    "    df.to_csv(filename, sep='\\t', index=False, encoding='utf-8', header=False)"
   ]
  },
  {
   "cell_type": "code",
   "execution_count": 6,
   "id": "e52aeeca-15a7-402e-aac8-c4cc37db26fa",
   "metadata": {},
   "outputs": [],
   "source": [
    "data = read_fasta(\"blast/TE_K10B.bl\")"
   ]
  },
  {
   "cell_type": "code",
   "execution_count": 7,
   "id": "0a4c63dd-054b-48a0-a90d-9968f549318f",
   "metadata": {},
   "outputs": [],
   "source": [
    "alex1 = data[data.qseqid.str.contains('Alex1')]\n",
    "plus_alex1 = alex1[alex1.sstart < alex1.send]\n",
    "minus_alex1 = alex1[alex1.sstart > alex1.send]"
   ]
  },
  {
   "cell_type": "code",
   "execution_count": 8,
   "id": "9a79769b-012d-443a-8a4e-fcba677c3371",
   "metadata": {},
   "outputs": [],
   "source": [
    "alex3 = data[data.qseqid.str.contains('Alex3')]\n",
    "plus_alex3 = alex3[alex3.sstart < alex3.send]\n",
    "minus_alex3 = alex3[alex3.sstart > alex3.send]"
   ]
  },
  {
   "cell_type": "code",
   "execution_count": 9,
   "id": "2b017747-cf5b-4da5-9e71-dc5aaa9937fc",
   "metadata": {},
   "outputs": [
    {
     "data": {
      "text/plain": [
       "1732"
      ]
     },
     "execution_count": 9,
     "metadata": {},
     "output_type": "execute_result"
    }
   ],
   "source": [
    "len(alex1) + len(alex3)"
   ]
  },
  {
   "cell_type": "code",
   "execution_count": 10,
   "id": "789f32b2-c040-4e80-bd9a-9e1b26815a4d",
   "metadata": {},
   "outputs": [
    {
     "data": {
      "text/html": [
       "<div>\n",
       "<style scoped>\n",
       "    .dataframe tbody tr th:only-of-type {\n",
       "        vertical-align: middle;\n",
       "    }\n",
       "\n",
       "    .dataframe tbody tr th {\n",
       "        vertical-align: top;\n",
       "    }\n",
       "\n",
       "    .dataframe thead th {\n",
       "        text-align: right;\n",
       "    }\n",
       "</style>\n",
       "<table border=\"1\" class=\"dataframe\">\n",
       "  <thead>\n",
       "    <tr style=\"text-align: right;\">\n",
       "      <th></th>\n",
       "      <th>qseqid</th>\n",
       "      <th>sseqid</th>\n",
       "      <th>pident</th>\n",
       "      <th>length</th>\n",
       "      <th>mismatch</th>\n",
       "      <th>gapopen</th>\n",
       "      <th>qstart</th>\n",
       "      <th>qend</th>\n",
       "      <th>sstart</th>\n",
       "      <th>send</th>\n",
       "      <th>expect value</th>\n",
       "      <th>bitscore</th>\n",
       "    </tr>\n",
       "  </thead>\n",
       "  <tbody>\n",
       "    <tr>\n",
       "      <th>902</th>\n",
       "      <td>Alex1_chr1:18795335-18799058</td>\n",
       "      <td>2c40afb0-7c90-4ddf-847c-a587e291d4a9</td>\n",
       "      <td>94.235</td>\n",
       "      <td>2810</td>\n",
       "      <td>67</td>\n",
       "      <td>76</td>\n",
       "      <td>949</td>\n",
       "      <td>3724</td>\n",
       "      <td>2130</td>\n",
       "      <td>4878</td>\n",
       "      <td>0.0</td>\n",
       "      <td>4204.0</td>\n",
       "    </tr>\n",
       "    <tr>\n",
       "      <th>903</th>\n",
       "      <td>Alex1_chr1:18795335-18799058</td>\n",
       "      <td>2c40afb0-7c90-4ddf-847c-a587e291d4a9</td>\n",
       "      <td>95.327</td>\n",
       "      <td>535</td>\n",
       "      <td>7</td>\n",
       "      <td>15</td>\n",
       "      <td>421</td>\n",
       "      <td>949</td>\n",
       "      <td>612</td>\n",
       "      <td>1134</td>\n",
       "      <td>0.0</td>\n",
       "      <td>833.0</td>\n",
       "    </tr>\n",
       "  </tbody>\n",
       "</table>\n",
       "</div>"
      ],
      "text/plain": [
       "                           qseqid                                sseqid  \\\n",
       "902  Alex1_chr1:18795335-18799058  2c40afb0-7c90-4ddf-847c-a587e291d4a9   \n",
       "903  Alex1_chr1:18795335-18799058  2c40afb0-7c90-4ddf-847c-a587e291d4a9   \n",
       "\n",
       "     pident  length  mismatch  gapopen  qstart  qend  sstart  send  \\\n",
       "902  94.235    2810        67       76     949  3724    2130  4878   \n",
       "903  95.327     535         7       15     421   949     612  1134   \n",
       "\n",
       "     expect value  bitscore  \n",
       "902           0.0    4204.0  \n",
       "903           0.0     833.0  "
      ]
     },
     "execution_count": 10,
     "metadata": {},
     "output_type": "execute_result"
    }
   ],
   "source": [
    "plus_alex1.head(2)"
   ]
  },
  {
   "cell_type": "code",
   "execution_count": 11,
   "id": "88aaca33-b4fe-4df2-9124-674b9dd6d620",
   "metadata": {},
   "outputs": [],
   "source": [
    "bed_df = plus_alex1[['sseqid', 'sstart', 'send', 'qseqid']].sort_values(by=['sseqid', 'sstart', 'send'])\n"
   ]
  },
  {
   "cell_type": "code",
   "execution_count": 12,
   "id": "7c072aa5-0743-4c0c-aabe-bd39802741b9",
   "metadata": {},
   "outputs": [
    {
     "data": {
      "text/html": [
       "<div>\n",
       "<style scoped>\n",
       "    .dataframe tbody tr th:only-of-type {\n",
       "        vertical-align: middle;\n",
       "    }\n",
       "\n",
       "    .dataframe tbody tr th {\n",
       "        vertical-align: top;\n",
       "    }\n",
       "\n",
       "    .dataframe thead th {\n",
       "        text-align: right;\n",
       "    }\n",
       "</style>\n",
       "<table border=\"1\" class=\"dataframe\">\n",
       "  <thead>\n",
       "    <tr style=\"text-align: right;\">\n",
       "      <th></th>\n",
       "      <th>sseqid</th>\n",
       "      <th>sstart</th>\n",
       "      <th>send</th>\n",
       "      <th>qseqid</th>\n",
       "    </tr>\n",
       "  </thead>\n",
       "  <tbody>\n",
       "    <tr>\n",
       "      <th>1083</th>\n",
       "      <td>0033bcbe-f78a-48ec-9149-88b241b8febb</td>\n",
       "      <td>3445</td>\n",
       "      <td>3714</td>\n",
       "      <td>Alex1_chr1:18795335-18799058</td>\n",
       "    </tr>\n",
       "    <tr>\n",
       "      <th>1082</th>\n",
       "      <td>0033bcbe-f78a-48ec-9149-88b241b8febb</td>\n",
       "      <td>3445</td>\n",
       "      <td>4367</td>\n",
       "      <td>Alex1_chr1:18795335-18799058</td>\n",
       "    </tr>\n",
       "    <tr>\n",
       "      <th>1081</th>\n",
       "      <td>0033bcbe-f78a-48ec-9149-88b241b8febb</td>\n",
       "      <td>5341</td>\n",
       "      <td>8025</td>\n",
       "      <td>Alex1_chr1:18795335-18799058</td>\n",
       "    </tr>\n",
       "    <tr>\n",
       "      <th>1084</th>\n",
       "      <td>0033bcbe-f78a-48ec-9149-88b241b8febb</td>\n",
       "      <td>7757</td>\n",
       "      <td>8025</td>\n",
       "      <td>Alex1_chr1:18795335-18799058</td>\n",
       "    </tr>\n",
       "    <tr>\n",
       "      <th>1492</th>\n",
       "      <td>012fd23f-1632-4f4a-8428-eb3c56914692</td>\n",
       "      <td>36</td>\n",
       "      <td>256</td>\n",
       "      <td>Alex1_chr1:18795335-18799058</td>\n",
       "    </tr>\n",
       "  </tbody>\n",
       "</table>\n",
       "</div>"
      ],
      "text/plain": [
       "                                    sseqid  sstart  send  \\\n",
       "1083  0033bcbe-f78a-48ec-9149-88b241b8febb    3445  3714   \n",
       "1082  0033bcbe-f78a-48ec-9149-88b241b8febb    3445  4367   \n",
       "1081  0033bcbe-f78a-48ec-9149-88b241b8febb    5341  8025   \n",
       "1084  0033bcbe-f78a-48ec-9149-88b241b8febb    7757  8025   \n",
       "1492  012fd23f-1632-4f4a-8428-eb3c56914692      36   256   \n",
       "\n",
       "                            qseqid  \n",
       "1083  Alex1_chr1:18795335-18799058  \n",
       "1082  Alex1_chr1:18795335-18799058  \n",
       "1081  Alex1_chr1:18795335-18799058  \n",
       "1084  Alex1_chr1:18795335-18799058  \n",
       "1492  Alex1_chr1:18795335-18799058  "
      ]
     },
     "execution_count": 12,
     "metadata": {},
     "output_type": "execute_result"
    }
   ],
   "source": [
    "bed_df.head()"
   ]
  },
  {
   "cell_type": "code",
   "execution_count": 13,
   "id": "d4243b87-0db9-4e2a-97db-97b3cc3f3315",
   "metadata": {},
   "outputs": [],
   "source": [
    "save_fasta(bed_df, 'raw_first_blast.bed')"
   ]
  },
  {
   "cell_type": "code",
   "execution_count": 14,
   "id": "fb321156-0d3c-446a-98b2-f366fb1af632",
   "metadata": {},
   "outputs": [],
   "source": [
    "!bedtools merge -i raw_first_blast.bed -d 1500 -c 4 -o collapse  > first_blast.bed.merged"
   ]
  },
  {
   "cell_type": "code",
   "execution_count": 15,
   "id": "f65d15a1-3b41-4e6c-9178-e81155ebebbb",
   "metadata": {},
   "outputs": [],
   "source": [
    "merged = pd.read_csv(\n",
    "    \"first_blast.bed.merged\", sep=\"\\t\", header=None).rename(\n",
    "    {0:'sseqid', 1:'sstart', 2:'send', 3:'qseqid'}, axis=1\n",
    ")"
   ]
  },
  {
   "cell_type": "code",
   "execution_count": 16,
   "id": "3fe116b6-b087-4f6c-97d9-7c2328cfccfd",
   "metadata": {},
   "outputs": [
    {
     "data": {
      "text/plain": [
       "295"
      ]
     },
     "execution_count": 16,
     "metadata": {},
     "output_type": "execute_result"
    }
   ],
   "source": [
    "len(merged)"
   ]
  },
  {
   "cell_type": "code",
   "execution_count": 17,
   "id": "7909950e-a88e-44b5-943b-956cfe7a0a22",
   "metadata": {},
   "outputs": [
    {
     "data": {
      "text/html": [
       "<div>\n",
       "<style scoped>\n",
       "    .dataframe tbody tr th:only-of-type {\n",
       "        vertical-align: middle;\n",
       "    }\n",
       "\n",
       "    .dataframe tbody tr th {\n",
       "        vertical-align: top;\n",
       "    }\n",
       "\n",
       "    .dataframe thead th {\n",
       "        text-align: right;\n",
       "    }\n",
       "</style>\n",
       "<table border=\"1\" class=\"dataframe\">\n",
       "  <thead>\n",
       "    <tr style=\"text-align: right;\">\n",
       "      <th></th>\n",
       "      <th>sseqid</th>\n",
       "      <th>sstart</th>\n",
       "      <th>send</th>\n",
       "      <th>qseqid</th>\n",
       "    </tr>\n",
       "  </thead>\n",
       "  <tbody>\n",
       "    <tr>\n",
       "      <th>0</th>\n",
       "      <td>0033bcbe-f78a-48ec-9149-88b241b8febb</td>\n",
       "      <td>3445</td>\n",
       "      <td>8025</td>\n",
       "      <td>Alex1_chr1:18795335-18799058,Alex1_chr1:187953...</td>\n",
       "    </tr>\n",
       "    <tr>\n",
       "      <th>1</th>\n",
       "      <td>012fd23f-1632-4f4a-8428-eb3c56914692</td>\n",
       "      <td>36</td>\n",
       "      <td>433</td>\n",
       "      <td>Alex1_chr1:18795335-18799058,Alex1_chr1:187953...</td>\n",
       "    </tr>\n",
       "  </tbody>\n",
       "</table>\n",
       "</div>"
      ],
      "text/plain": [
       "                                 sseqid  sstart  send  \\\n",
       "0  0033bcbe-f78a-48ec-9149-88b241b8febb    3445  8025   \n",
       "1  012fd23f-1632-4f4a-8428-eb3c56914692      36   433   \n",
       "\n",
       "                                              qseqid  \n",
       "0  Alex1_chr1:18795335-18799058,Alex1_chr1:187953...  \n",
       "1  Alex1_chr1:18795335-18799058,Alex1_chr1:187953...  "
      ]
     },
     "execution_count": 17,
     "metadata": {},
     "output_type": "execute_result"
    }
   ],
   "source": [
    "merged.head(2)"
   ]
  },
  {
   "cell_type": "code",
   "execution_count": 18,
   "id": "02e0233a-19ed-4d71-b385-40ca6a8147c8",
   "metadata": {},
   "outputs": [],
   "source": [
    "filtered_first_bed = merged[(merged.send - merged.sstart) > 4000]"
   ]
  },
  {
   "cell_type": "code",
   "execution_count": 19,
   "id": "4c4710b2-41e6-4549-afba-ee5dd993f940",
   "metadata": {},
   "outputs": [],
   "source": [
    "pd.options.mode.copy_on_write = True\n",
    "filtered_first_bed['end'] = filtered_first_bed['send'] + 4000\n",
    "filtered_first_bed['start'] = filtered_first_bed['sstart'] - 4000\n",
    "save_fasta(filtered_first_bed[['sseqid', 'sstart', 'send']], 'normal.txt')\n"
   ]
  },
  {
   "cell_type": "code",
   "execution_count": 21,
   "id": "66478029-c723-4677-ac5d-cba78eef34ef",
   "metadata": {},
   "outputs": [],
   "source": [
    "save_fasta(filtered_first_bed[['sseqid']], 'seq_list.txt')"
   ]
  },
  {
   "cell_type": "code",
   "execution_count": 25,
   "id": "d760dc7d-663b-4355-b1a8-5604e29e7645",
   "metadata": {},
   "outputs": [],
   "source": [
    "!seqtk subseq ont/K10B.fasta seq_list.txt > normal.fasta"
   ]
  },
  {
   "cell_type": "code",
   "execution_count": 26,
   "id": "5b294344-a5ba-4df9-9cff-276ce8dcf78f",
   "metadata": {},
   "outputs": [],
   "source": [
    "!bedtools maskfasta -fi normal.fasta -bed normal.txt -fo Alex_K10B.masked.fasta\n",
    "!seqkit fx2tab --length --name  Alex_K10B.masked.fasta > max_lenght.txt\n",
    "max_len = pd.read_csv(\n",
    "    'max_lenght.txt', sep=\"\\t\", header=None).rename(\n",
    "    {0:'sseqid', 1:'max_len'}, axis=1).sort_values(by=['sseqid'])"
   ]
  },
  {
   "cell_type": "code",
   "execution_count": 27,
   "id": "a2029c62-d667-477b-8910-d684f6c15cec",
   "metadata": {},
   "outputs": [],
   "source": [
    "#sseqid bo query to po prostu te w tym przypadku\n",
    "save_fasta(filtered_first_bed[['sseqid', 'start', 'end']], 'cutted.txt')\n",
    "\n",
    "mask_min = filtered_first_bed.start < 0\n",
    "filtered_first_bed.loc[mask_min, 'start'] = 0\n",
    "filtered_first_bed = pd.merge(filtered_first_bed, max_len, how='left', on=\"sseqid\")\n",
    "mask_max = filtered_first_bed.end > filtered_first_bed.max_len\n",
    "filtered_first_bed.loc[mask_max, 'end'] = filtered_first_bed.max_len\n",
    "save_fasta(filtered_first_bed[['sseqid', 'start', 'end']], 'cutted2.txt')\n"
   ]
  },
  {
   "cell_type": "code",
   "execution_count": 28,
   "id": "ad412052-27c2-4e07-8d77-5d78b515c642",
   "metadata": {},
   "outputs": [],
   "source": [
    "!seqtk subseq Alex_K10B.masked.fasta cutted2.txt > cutted_ont.fasta"
   ]
  },
  {
   "cell_type": "code",
   "execution_count": 135,
   "id": "8ab61144-2ced-4c98-bee7-9e46338ae820",
   "metadata": {},
   "outputs": [],
   "source": [
    "#!mv output.fasta new2.fasta"
   ]
  },
  {
   "cell_type": "markdown",
   "id": "58f71eb9-a776-4ebe-bac4-63a43bb2799e",
   "metadata": {},
   "source": [
    "# Genome masking"
   ]
  },
  {
   "cell_type": "code",
   "execution_count": 33,
   "id": "98cccbc3-d446-420b-85b8-28ebb51d735c",
   "metadata": {},
   "outputs": [
    {
     "name": "stdout",
     "output_type": "stream",
     "text": [
      "\n",
      "\n",
      "Building a new DB, current time: 03/25/2024 19:37:29\n",
      "New DB name:   /home/kiki/data/genome/DCARv3.4\n",
      "New DB title:  genome/DCARv3.4.fa\n",
      "Sequence type: Nucleotide\n",
      "Keep MBits: T\n",
      "Maximum file size: 1000000000B\n",
      "Adding sequences from FASTA; added 9 sequences in 7.92409 seconds.\n",
      "\n",
      "\n"
     ]
    }
   ],
   "source": [
    "!makeblastdb -in genome/DCARv3.4.fa  -dbtype nucl -out genome/DCARv3.4"
   ]
  },
  {
   "cell_type": "code",
   "execution_count": 34,
   "id": "e7935b08-74ee-472a-ae00-b53123906844",
   "metadata": {},
   "outputs": [
    {
     "name": "stdout",
     "output_type": "stream",
     "text": [
      "Warning: [blastn] Examining 5 or more matches is recommended\n",
      "Warning: [blastn] Number of threads was reduced to 8 to match the number of available CPUs\n",
      "FASTA-Reader: Ignoring invalid residues at position(s): On line 109: 14-60\n",
      "FASTA-Reader: Ignoring invalid residues at position(s): On line 110: 1-60\n",
      "FASTA-Reader: Ignoring invalid residues at position(s): On line 111: 1-47\n",
      "FASTA-Reader: Ignoring invalid residues at position(s): On line 114: 45-60\n",
      "FASTA-Reader: Ignoring invalid residues at position(s): On line 115: 1-60\n",
      "FASTA-Reader: Ignoring invalid residues at position(s): On line 116: 1-17\n",
      "FASTA-Reader: Ignoring invalid residues at position(s): On line 142: 15-60\n",
      "FASTA-Reader: Ignoring invalid residues at position(s): On line 143: 1-60\n",
      "FASTA-Reader: Ignoring invalid residues at position(s): On line 144: 1-60\n",
      "FASTA-Reader: Ignoring invalid residues at position(s): On line 145: 1-42\n"
     ]
    }
   ],
   "source": [
    "# Blast Alex to genome\n",
    "!blastn -num_threads 20 -outfmt 6 -query te/Alex1_Alex3.fasta -db genome/DCARv3.4 -out TE_genome.bl -perc_identity 0.8 -max_target_seqs 4"
   ]
  },
  {
   "cell_type": "code",
   "execution_count": 35,
   "id": "a7ae7ffc-c9ef-4e3b-9372-82c21f6fdc36",
   "metadata": {},
   "outputs": [],
   "source": [
    "tex = read_fasta(\"TE_genome.bl\")"
   ]
  },
  {
   "cell_type": "code",
   "execution_count": 37,
   "id": "5ffe3513-a6d1-4e2b-bbc6-fff37c11b6ef",
   "metadata": {},
   "outputs": [],
   "source": [
    "#save_fasta(tex[[\"sseqid\", \"sstart\", \"send\"]], \"to_mask_genome.txt\")\n",
    "tex[\"start\"] = tex['sstart'].where(tex['sstart'] <= tex[\"send\"], other=tex['send'])\n",
    "tex[\"stop\"] = tex['sstart'].where(tex['sstart'] > tex[\"send\"], other=tex['send'])\n",
    "save_fasta(tex[[\"sseqid\", \"start\", \"stop\"]], \"to_mask_genome.txt\")\n",
    "!bedtools maskfasta -fi genome/DCARv3.4.fa -bed to_mask_genome.txt -fo TE_genome.masked.fasta"
   ]
  },
  {
   "cell_type": "code",
   "execution_count": 42,
   "id": "72eee32b-d6dc-48b9-808e-fe9edee6e3ae",
   "metadata": {},
   "outputs": [],
   "source": [
    "#okno = [record['sstart'], record['send'] if record['sstart'] >= record['send'] else None for record in tex]\n",
    "#df['Conditioned_Numbers'] = df['Numbers'].where(df['Numbers'] > threshold, other='Below Threshold')\n",
    "tex[\"start\"] = tex['sstart'].where(tex['sstart'] <= tex[\"send\"], other=tex['send'])\n",
    "tex[\"stop\"] = tex['sstart'].where(tex['sstart'] > tex[\"send\"], other=tex['send'])\n",
    "plus_tex = tex[texl.sstart < texl.send]\n",
    "minus_tex = texl[alex3.sstart > texl.send]\n",
    "save_fasta(tex[[\"sseqid\", \"start\", \"stop\"]], \"to_mask_genome.txt\")"
   ]
  },
  {
   "cell_type": "code",
   "execution_count": 39,
   "id": "d58eb4c0-84c4-495f-9e29-a0f477a318c0",
   "metadata": {},
   "outputs": [
    {
     "data": {
      "text/html": [
       "<div>\n",
       "<style scoped>\n",
       "    .dataframe tbody tr th:only-of-type {\n",
       "        vertical-align: middle;\n",
       "    }\n",
       "\n",
       "    .dataframe tbody tr th {\n",
       "        vertical-align: top;\n",
       "    }\n",
       "\n",
       "    .dataframe thead th {\n",
       "        text-align: right;\n",
       "    }\n",
       "</style>\n",
       "<table border=\"1\" class=\"dataframe\">\n",
       "  <thead>\n",
       "    <tr style=\"text-align: right;\">\n",
       "      <th></th>\n",
       "      <th>qseqid</th>\n",
       "      <th>sseqid</th>\n",
       "      <th>pident</th>\n",
       "      <th>length</th>\n",
       "      <th>mismatch</th>\n",
       "      <th>gapopen</th>\n",
       "      <th>qstart</th>\n",
       "      <th>qend</th>\n",
       "      <th>sstart</th>\n",
       "      <th>send</th>\n",
       "      <th>expect value</th>\n",
       "      <th>bitscore</th>\n",
       "      <th>start</th>\n",
       "      <th>stop</th>\n",
       "    </tr>\n",
       "  </thead>\n",
       "  <tbody>\n",
       "    <tr>\n",
       "      <th>0</th>\n",
       "      <td>Alex3</td>\n",
       "      <td>DCARv3_Chr6</td>\n",
       "      <td>99.793</td>\n",
       "      <td>2893</td>\n",
       "      <td>6</td>\n",
       "      <td>0</td>\n",
       "      <td>1</td>\n",
       "      <td>2893</td>\n",
       "      <td>33630943</td>\n",
       "      <td>33628051</td>\n",
       "      <td>0.000000e+00</td>\n",
       "      <td>5310.0</td>\n",
       "      <td>33628051</td>\n",
       "      <td>33630943</td>\n",
       "    </tr>\n",
       "    <tr>\n",
       "      <th>1</th>\n",
       "      <td>Alex3</td>\n",
       "      <td>DCARv3_Chr6</td>\n",
       "      <td>99.536</td>\n",
       "      <td>2153</td>\n",
       "      <td>10</td>\n",
       "      <td>0</td>\n",
       "      <td>2892</td>\n",
       "      <td>5044</td>\n",
       "      <td>33628329</td>\n",
       "      <td>33626177</td>\n",
       "      <td>0.000000e+00</td>\n",
       "      <td>3923.0</td>\n",
       "      <td>33626177</td>\n",
       "      <td>33628329</td>\n",
       "    </tr>\n",
       "    <tr>\n",
       "      <th>2</th>\n",
       "      <td>Alex3</td>\n",
       "      <td>DCARv3_Chr6</td>\n",
       "      <td>99.571</td>\n",
       "      <td>233</td>\n",
       "      <td>1</td>\n",
       "      <td>0</td>\n",
       "      <td>4812</td>\n",
       "      <td>5044</td>\n",
       "      <td>33630944</td>\n",
       "      <td>33630712</td>\n",
       "      <td>1.420000e-116</td>\n",
       "      <td>425.0</td>\n",
       "      <td>33630712</td>\n",
       "      <td>33630944</td>\n",
       "    </tr>\n",
       "    <tr>\n",
       "      <th>3</th>\n",
       "      <td>Alex3</td>\n",
       "      <td>DCARv3_Chr6</td>\n",
       "      <td>99.569</td>\n",
       "      <td>232</td>\n",
       "      <td>1</td>\n",
       "      <td>0</td>\n",
       "      <td>1</td>\n",
       "      <td>232</td>\n",
       "      <td>33626408</td>\n",
       "      <td>33626177</td>\n",
       "      <td>5.090000e-116</td>\n",
       "      <td>424.0</td>\n",
       "      <td>33626177</td>\n",
       "      <td>33626408</td>\n",
       "    </tr>\n",
       "    <tr>\n",
       "      <th>4</th>\n",
       "      <td>Alex3</td>\n",
       "      <td>DCARv3_Chr3</td>\n",
       "      <td>99.793</td>\n",
       "      <td>2893</td>\n",
       "      <td>6</td>\n",
       "      <td>0</td>\n",
       "      <td>1</td>\n",
       "      <td>2893</td>\n",
       "      <td>3170546</td>\n",
       "      <td>3167654</td>\n",
       "      <td>0.000000e+00</td>\n",
       "      <td>5310.0</td>\n",
       "      <td>3167654</td>\n",
       "      <td>3170546</td>\n",
       "    </tr>\n",
       "  </tbody>\n",
       "</table>\n",
       "</div>"
      ],
      "text/plain": [
       "  qseqid       sseqid  pident  length  mismatch  gapopen  qstart  qend  \\\n",
       "0  Alex3  DCARv3_Chr6  99.793    2893         6        0       1  2893   \n",
       "1  Alex3  DCARv3_Chr6  99.536    2153        10        0    2892  5044   \n",
       "2  Alex3  DCARv3_Chr6  99.571     233         1        0    4812  5044   \n",
       "3  Alex3  DCARv3_Chr6  99.569     232         1        0       1   232   \n",
       "4  Alex3  DCARv3_Chr3  99.793    2893         6        0       1  2893   \n",
       "\n",
       "     sstart      send   expect value  bitscore     start      stop  \n",
       "0  33630943  33628051   0.000000e+00    5310.0  33628051  33630943  \n",
       "1  33628329  33626177   0.000000e+00    3923.0  33626177  33628329  \n",
       "2  33630944  33630712  1.420000e-116     425.0  33630712  33630944  \n",
       "3  33626408  33626177  5.090000e-116     424.0  33626177  33626408  \n",
       "4   3170546   3167654   0.000000e+00    5310.0   3167654   3170546  "
      ]
     },
     "execution_count": 39,
     "metadata": {},
     "output_type": "execute_result"
    }
   ],
   "source": [
    "tex.head()"
   ]
  },
  {
   "cell_type": "markdown",
   "id": "3c1005ca-6ede-46f2-944b-305620683911",
   "metadata": {},
   "source": [
    "# Second part of analysis"
   ]
  },
  {
   "cell_type": "code",
   "execution_count": 43,
   "id": "6e06d225-049b-43e1-8dfe-599b5ad2b05d",
   "metadata": {},
   "outputs": [
    {
     "name": "stdout",
     "output_type": "stream",
     "text": [
      "Warning: [blastn] Examining 5 or more matches is recommended\n",
      "Warning: [blastn] Number of threads was reduced to 8 to match the number of available CPUs\n"
     ]
    }
   ],
   "source": [
    "!blastn -num_threads 20 -outfmt 6 -query cutted_ont.fasta -db genome/DCARv3.4 -out Alex_K10B_genome.bl -perc_identity 0.8 -max_target_seqs 4"
   ]
  },
  {
   "cell_type": "code",
   "execution_count": 44,
   "id": "8cc8dfb1-4ee0-4ab9-93c9-5fc3ceeb8925",
   "metadata": {},
   "outputs": [],
   "source": [
    "result = pd.read_csv(\"Alex_K10B_genome.bl\", sep=\"\\t\", header=None).rename(headers_dict, axis=1)"
   ]
  },
  {
   "cell_type": "code",
   "execution_count": 53,
   "id": "cf6baa6e-7641-48d3-808b-7f1a7b62ec79",
   "metadata": {},
   "outputs": [
    {
     "data": {
      "text/plain": [
       "1254"
      ]
     },
     "execution_count": 53,
     "metadata": {},
     "output_type": "execute_result"
    }
   ],
   "source": [
    "plus_result = result[result.sstart <= result.send]\n",
    "minus_result = result[result.sstart > result.send]\n",
    "len(plus_result)"
   ]
  },
  {
   "cell_type": "code",
   "execution_count": 54,
   "id": "82adf909-a838-4836-871a-6b6a60d140ff",
   "metadata": {},
   "outputs": [
    {
     "data": {
      "text/plain": [
       "2489"
      ]
     },
     "execution_count": 54,
     "metadata": {},
     "output_type": "execute_result"
    }
   ],
   "source": [
    "len(result.send)"
   ]
  },
  {
   "cell_type": "code",
   "execution_count": 58,
   "id": "3d5eae64-5edc-435a-acef-a8fc9247e456",
   "metadata": {},
   "outputs": [],
   "source": [
    "def _create_part_raport(df):\n",
    "    df = df.sort_values(by=['sseqid', 'sstart', 'send'])\n",
    "    start_te = df.send[:-1]\n",
    "    start_te = start_te.reset_index(drop=True)\n",
    "    end_te = df.sstart[1:]\n",
    "    end_te = end_te.reset_index(drop=True)\n",
    "    return pd.DataFrame({'qseqid':df.qseqid.values[0], 'sseqid':df.sseqid.values[0], 'start_te': start_te, 'end_te': end_te})\n",
    "\n",
    "def create_report(df):\n",
    "    series_list = []\n",
    "    for qseqid in df.qseqid.unique():\n",
    "        okno = df[df.qseqid == qseqid]\n",
    "        for sseqid in okno.sseqid.unique():\n",
    "            okno2 = okno[(okno.sseqid == sseqid)]\n",
    "            series_list.append(_create_part_raport(okno2))\n",
    "    return pd.concat(series_list)\n"
   ]
  },
  {
   "cell_type": "code",
   "execution_count": 60,
   "id": "02acd6d8-c6c1-4c0a-8b9a-9207cc380315",
   "metadata": {},
   "outputs": [],
   "source": [
    "plus = create_report(plus_result)\n",
    "minus = create_report(minus_result)\n",
    "\n",
    "plus.to_csv(\"plus_report\", sep='\\t', index=False, encoding='utf-8', header=False)\n",
    "minus.to_csv(\"minus_report\", sep='\\t', index=False, encoding='utf-8', header=False)"
   ]
  },
  {
   "cell_type": "code",
   "execution_count": 62,
   "id": "5a895ac8-182c-4b45-bcec-d88e2c67c826",
   "metadata": {},
   "outputs": [],
   "source": [
    "plus['length'] = plus.end_te - plus.start_te\n",
    "minus['length'] = minus.end_te - minus.start_te"
   ]
  },
  {
   "cell_type": "code",
   "execution_count": 64,
   "id": "7535b3f7-d63b-4220-a5df-bab7843a82b5",
   "metadata": {},
   "outputs": [],
   "source": [
    "plus.to_csv(\"plus_report2\", sep='\\t', index=False, encoding='utf-8', header=True) # i add header\n",
    "minus.to_csv(\"minus_report2\", sep='\\t', index=False, encoding='utf-8', header=True) # i add header"
   ]
  },
  {
   "cell_type": "code",
   "execution_count": 65,
   "id": "fade272e-7a43-4405-acd0-8514325ad979",
   "metadata": {},
   "outputs": [],
   "source": [
    "finish_plus = plus[(plus.length < 8000) & (plus.length > 4000)]\n",
    "finish_minus = minus[(minus.length < 8000) & (minus.length > 4000)]"
   ]
  },
  {
   "cell_type": "code",
   "execution_count": 66,
   "id": "6b68fcac-044b-4cbc-b777-7e355133fc0c",
   "metadata": {},
   "outputs": [],
   "source": [
    "save_fasta(finish_plus, 'finish_plus')\n",
    "save_fasta(finish_minus, 'finish_minus')\n"
   ]
  },
  {
   "cell_type": "code",
   "execution_count": 69,
   "id": "1f2f50c7-f777-40f2-8a59-f32598b557a0",
   "metadata": {},
   "outputs": [],
   "source": [
    "finish_plus[\"strain\"] = \"+\"\n",
    "finish_minus[\"strain\"] = \"-\"\n",
    "ni =  pd.concat([finish_plus, finish_minus]).sort_values(by=['sseqid', 'start_te'])"
   ]
  },
  {
   "cell_type": "code",
   "execution_count": 70,
   "id": "68af56ae-4b2f-4002-b250-d7677a9ec08d",
   "metadata": {},
   "outputs": [
    {
     "data": {
      "text/html": [
       "<div>\n",
       "<style scoped>\n",
       "    .dataframe tbody tr th:only-of-type {\n",
       "        vertical-align: middle;\n",
       "    }\n",
       "\n",
       "    .dataframe tbody tr th {\n",
       "        vertical-align: top;\n",
       "    }\n",
       "\n",
       "    .dataframe thead th {\n",
       "        text-align: right;\n",
       "    }\n",
       "</style>\n",
       "<table border=\"1\" class=\"dataframe\">\n",
       "  <thead>\n",
       "    <tr style=\"text-align: right;\">\n",
       "      <th></th>\n",
       "      <th>qseqid</th>\n",
       "      <th>sseqid</th>\n",
       "      <th>start_te</th>\n",
       "      <th>end_te</th>\n",
       "      <th>length</th>\n",
       "      <th>strain</th>\n",
       "    </tr>\n",
       "  </thead>\n",
       "  <tbody>\n",
       "    <tr>\n",
       "      <th>0</th>\n",
       "      <td>9676ad26-b838-4bf4-b6f3-803f3cb06ff0:8506-20811</td>\n",
       "      <td>DCARv3_Chr1</td>\n",
       "      <td>2879944</td>\n",
       "      <td>2884063</td>\n",
       "      <td>4119</td>\n",
       "      <td>-</td>\n",
       "    </tr>\n",
       "    <tr>\n",
       "      <th>0</th>\n",
       "      <td>2c40afb0-7c90-4ddf-847c-a587e291d4a9:1-9021</td>\n",
       "      <td>DCARv3_Chr1</td>\n",
       "      <td>2879983</td>\n",
       "      <td>2884668</td>\n",
       "      <td>4685</td>\n",
       "      <td>-</td>\n",
       "    </tr>\n",
       "    <tr>\n",
       "      <th>1</th>\n",
       "      <td>9676ad26-b838-4bf4-b6f3-803f3cb06ff0:8506-20811</td>\n",
       "      <td>DCARv3_Chr1</td>\n",
       "      <td>2883315</td>\n",
       "      <td>2888128</td>\n",
       "      <td>4813</td>\n",
       "      <td>-</td>\n",
       "    </tr>\n",
       "    <tr>\n",
       "      <th>1</th>\n",
       "      <td>69ef9f65-ed6a-4216-b76a-68c01c61dbe1:26138-36260</td>\n",
       "      <td>DCARv3_Chr1</td>\n",
       "      <td>7417810</td>\n",
       "      <td>7423816</td>\n",
       "      <td>6006</td>\n",
       "      <td>+</td>\n",
       "    </tr>\n",
       "    <tr>\n",
       "      <th>0</th>\n",
       "      <td>255e5e59-5e10-49f6-9460-36d8ab9bfc97:2183-11806</td>\n",
       "      <td>DCARv3_Chr1</td>\n",
       "      <td>24857327</td>\n",
       "      <td>24862059</td>\n",
       "      <td>4732</td>\n",
       "      <td>-</td>\n",
       "    </tr>\n",
       "    <tr>\n",
       "      <th>1</th>\n",
       "      <td>9ebca745-06aa-4187-9303-3fc73853bf74:1-10652</td>\n",
       "      <td>DCARv3_Chr1</td>\n",
       "      <td>32967973</td>\n",
       "      <td>32973561</td>\n",
       "      <td>5588</td>\n",
       "      <td>-</td>\n",
       "    </tr>\n",
       "    <tr>\n",
       "      <th>2</th>\n",
       "      <td>9ebca745-06aa-4187-9303-3fc73853bf74:1-10652</td>\n",
       "      <td>DCARv3_Chr1</td>\n",
       "      <td>32969507</td>\n",
       "      <td>32975637</td>\n",
       "      <td>6130</td>\n",
       "      <td>-</td>\n",
       "    </tr>\n",
       "    <tr>\n",
       "      <th>5</th>\n",
       "      <td>98c0c670-f831-449a-a2d7-6b50aad7d341:308-12808</td>\n",
       "      <td>DCARv3_Chr1</td>\n",
       "      <td>45816544</td>\n",
       "      <td>45822054</td>\n",
       "      <td>5510</td>\n",
       "      <td>-</td>\n",
       "    </tr>\n",
       "    <tr>\n",
       "      <th>6</th>\n",
       "      <td>98c0c670-f831-449a-a2d7-6b50aad7d341:308-12808</td>\n",
       "      <td>DCARv3_Chr1</td>\n",
       "      <td>45818829</td>\n",
       "      <td>45822962</td>\n",
       "      <td>4133</td>\n",
       "      <td>-</td>\n",
       "    </tr>\n",
       "    <tr>\n",
       "      <th>1</th>\n",
       "      <td>bed145d3-72e9-4002-ba69-3a2a28356019:1-9105</td>\n",
       "      <td>DCARv3_Chr1</td>\n",
       "      <td>49093136</td>\n",
       "      <td>49097161</td>\n",
       "      <td>4025</td>\n",
       "      <td>-</td>\n",
       "    </tr>\n",
       "    <tr>\n",
       "      <th>0</th>\n",
       "      <td>9ebca745-06aa-4187-9303-3fc73853bf74:1-10652</td>\n",
       "      <td>DCARv3_Chr2</td>\n",
       "      <td>12765180</td>\n",
       "      <td>12770518</td>\n",
       "      <td>5338</td>\n",
       "      <td>-</td>\n",
       "    </tr>\n",
       "    <tr>\n",
       "      <th>2</th>\n",
       "      <td>704088c5-6d42-48cd-9194-46b372ca3c70:1431-13987</td>\n",
       "      <td>DCARv3_Chr2</td>\n",
       "      <td>27040072</td>\n",
       "      <td>27046332</td>\n",
       "      <td>6260</td>\n",
       "      <td>-</td>\n",
       "    </tr>\n",
       "    <tr>\n",
       "      <th>13</th>\n",
       "      <td>704088c5-6d42-48cd-9194-46b372ca3c70:1431-13987</td>\n",
       "      <td>DCARv3_Chr2</td>\n",
       "      <td>32211960</td>\n",
       "      <td>32216454</td>\n",
       "      <td>4494</td>\n",
       "      <td>+</td>\n",
       "    </tr>\n",
       "    <tr>\n",
       "      <th>0</th>\n",
       "      <td>255e5e59-5e10-49f6-9460-36d8ab9bfc97:2183-11806</td>\n",
       "      <td>DCARv3_Chr2</td>\n",
       "      <td>46097869</td>\n",
       "      <td>46102046</td>\n",
       "      <td>4177</td>\n",
       "      <td>+</td>\n",
       "    </tr>\n",
       "    <tr>\n",
       "      <th>1</th>\n",
       "      <td>d02bc011-35ab-415e-a9f6-b219b7497dd8:2959-15527</td>\n",
       "      <td>DCARv3_Chr2</td>\n",
       "      <td>52698076</td>\n",
       "      <td>52703860</td>\n",
       "      <td>5784</td>\n",
       "      <td>-</td>\n",
       "    </tr>\n",
       "    <tr>\n",
       "      <th>19</th>\n",
       "      <td>7e4c3981-29d5-40a6-aad0-59e1e9322d19:11704-22652</td>\n",
       "      <td>DCARv3_Chr3</td>\n",
       "      <td>13262128</td>\n",
       "      <td>13267708</td>\n",
       "      <td>5580</td>\n",
       "      <td>+</td>\n",
       "    </tr>\n",
       "    <tr>\n",
       "      <th>25</th>\n",
       "      <td>9b81e66c-0ef1-4afa-80f5-637162e9be71:4549-17150</td>\n",
       "      <td>DCARv3_Chr3</td>\n",
       "      <td>13262128</td>\n",
       "      <td>13267694</td>\n",
       "      <td>5566</td>\n",
       "      <td>+</td>\n",
       "    </tr>\n",
       "    <tr>\n",
       "      <th>0</th>\n",
       "      <td>1fe502eb-b72d-4720-8b6b-8905986876f3:1-4932</td>\n",
       "      <td>DCARv3_Chr3</td>\n",
       "      <td>55479673</td>\n",
       "      <td>55484403</td>\n",
       "      <td>4730</td>\n",
       "      <td>+</td>\n",
       "    </tr>\n",
       "    <tr>\n",
       "      <th>0</th>\n",
       "      <td>328ef23f-1ebb-43b9-a01d-329e58159e42:1655-13665</td>\n",
       "      <td>DCARv3_Chr3</td>\n",
       "      <td>55479676</td>\n",
       "      <td>55483962</td>\n",
       "      <td>4286</td>\n",
       "      <td>+</td>\n",
       "    </tr>\n",
       "    <tr>\n",
       "      <th>10</th>\n",
       "      <td>c89a6c1c-495b-4c98-bcb1-376e6b1b3fb4:1700-11976</td>\n",
       "      <td>DCARv3_Chr3</td>\n",
       "      <td>55479676</td>\n",
       "      <td>55484400</td>\n",
       "      <td>4724</td>\n",
       "      <td>+</td>\n",
       "    </tr>\n",
       "    <tr>\n",
       "      <th>51</th>\n",
       "      <td>7e4c3981-29d5-40a6-aad0-59e1e9322d19:11704-22652</td>\n",
       "      <td>DCARv3_Chr3</td>\n",
       "      <td>55479676</td>\n",
       "      <td>55484392</td>\n",
       "      <td>4716</td>\n",
       "      <td>+</td>\n",
       "    </tr>\n",
       "    <tr>\n",
       "      <th>65</th>\n",
       "      <td>9b81e66c-0ef1-4afa-80f5-637162e9be71:4549-17150</td>\n",
       "      <td>DCARv3_Chr3</td>\n",
       "      <td>55479676</td>\n",
       "      <td>55484397</td>\n",
       "      <td>4721</td>\n",
       "      <td>+</td>\n",
       "    </tr>\n",
       "    <tr>\n",
       "      <th>19</th>\n",
       "      <td>c89a6c1c-495b-4c98-bcb1-376e6b1b3fb4:1700-11976</td>\n",
       "      <td>DCARv3_Chr3</td>\n",
       "      <td>64241442</td>\n",
       "      <td>64249295</td>\n",
       "      <td>7853</td>\n",
       "      <td>+</td>\n",
       "    </tr>\n",
       "    <tr>\n",
       "      <th>69</th>\n",
       "      <td>7e4c3981-29d5-40a6-aad0-59e1e9322d19:11704-22652</td>\n",
       "      <td>DCARv3_Chr3</td>\n",
       "      <td>64241442</td>\n",
       "      <td>64249356</td>\n",
       "      <td>7914</td>\n",
       "      <td>+</td>\n",
       "    </tr>\n",
       "    <tr>\n",
       "      <th>90</th>\n",
       "      <td>9b81e66c-0ef1-4afa-80f5-637162e9be71:4549-17150</td>\n",
       "      <td>DCARv3_Chr3</td>\n",
       "      <td>64241541</td>\n",
       "      <td>64249356</td>\n",
       "      <td>7815</td>\n",
       "      <td>+</td>\n",
       "    </tr>\n",
       "    <tr>\n",
       "      <th>36</th>\n",
       "      <td>9b81e66c-0ef1-4afa-80f5-637162e9be71:4549-17150</td>\n",
       "      <td>DCARv3_Chr4</td>\n",
       "      <td>37588541</td>\n",
       "      <td>37592829</td>\n",
       "      <td>4288</td>\n",
       "      <td>+</td>\n",
       "    </tr>\n",
       "    <tr>\n",
       "      <th>52</th>\n",
       "      <td>9b81e66c-0ef1-4afa-80f5-637162e9be71:4549-17150</td>\n",
       "      <td>DCARv3_Chr4</td>\n",
       "      <td>46025644</td>\n",
       "      <td>46033154</td>\n",
       "      <td>7510</td>\n",
       "      <td>-</td>\n",
       "    </tr>\n",
       "    <tr>\n",
       "      <th>2</th>\n",
       "      <td>10e616cd-c2ca-42e2-a391-8078ac0d8956:21670-34393</td>\n",
       "      <td>DCARv3_Chr5</td>\n",
       "      <td>4416155</td>\n",
       "      <td>4421654</td>\n",
       "      <td>5499</td>\n",
       "      <td>-</td>\n",
       "    </tr>\n",
       "    <tr>\n",
       "      <th>4</th>\n",
       "      <td>10e616cd-c2ca-42e2-a391-8078ac0d8956:21670-34393</td>\n",
       "      <td>DCARv3_Chr5</td>\n",
       "      <td>4422739</td>\n",
       "      <td>4427743</td>\n",
       "      <td>5004</td>\n",
       "      <td>-</td>\n",
       "    </tr>\n",
       "    <tr>\n",
       "      <th>0</th>\n",
       "      <td>255e5e59-5e10-49f6-9460-36d8ab9bfc97:2183-11806</td>\n",
       "      <td>DCARv3_Chr5</td>\n",
       "      <td>8888936</td>\n",
       "      <td>8893113</td>\n",
       "      <td>4177</td>\n",
       "      <td>+</td>\n",
       "    </tr>\n",
       "  </tbody>\n",
       "</table>\n",
       "</div>"
      ],
      "text/plain": [
       "                                              qseqid       sseqid  start_te  \\\n",
       "0    9676ad26-b838-4bf4-b6f3-803f3cb06ff0:8506-20811  DCARv3_Chr1   2879944   \n",
       "0        2c40afb0-7c90-4ddf-847c-a587e291d4a9:1-9021  DCARv3_Chr1   2879983   \n",
       "1    9676ad26-b838-4bf4-b6f3-803f3cb06ff0:8506-20811  DCARv3_Chr1   2883315   \n",
       "1   69ef9f65-ed6a-4216-b76a-68c01c61dbe1:26138-36260  DCARv3_Chr1   7417810   \n",
       "0    255e5e59-5e10-49f6-9460-36d8ab9bfc97:2183-11806  DCARv3_Chr1  24857327   \n",
       "1       9ebca745-06aa-4187-9303-3fc73853bf74:1-10652  DCARv3_Chr1  32967973   \n",
       "2       9ebca745-06aa-4187-9303-3fc73853bf74:1-10652  DCARv3_Chr1  32969507   \n",
       "5     98c0c670-f831-449a-a2d7-6b50aad7d341:308-12808  DCARv3_Chr1  45816544   \n",
       "6     98c0c670-f831-449a-a2d7-6b50aad7d341:308-12808  DCARv3_Chr1  45818829   \n",
       "1        bed145d3-72e9-4002-ba69-3a2a28356019:1-9105  DCARv3_Chr1  49093136   \n",
       "0       9ebca745-06aa-4187-9303-3fc73853bf74:1-10652  DCARv3_Chr2  12765180   \n",
       "2    704088c5-6d42-48cd-9194-46b372ca3c70:1431-13987  DCARv3_Chr2  27040072   \n",
       "13   704088c5-6d42-48cd-9194-46b372ca3c70:1431-13987  DCARv3_Chr2  32211960   \n",
       "0    255e5e59-5e10-49f6-9460-36d8ab9bfc97:2183-11806  DCARv3_Chr2  46097869   \n",
       "1    d02bc011-35ab-415e-a9f6-b219b7497dd8:2959-15527  DCARv3_Chr2  52698076   \n",
       "19  7e4c3981-29d5-40a6-aad0-59e1e9322d19:11704-22652  DCARv3_Chr3  13262128   \n",
       "25   9b81e66c-0ef1-4afa-80f5-637162e9be71:4549-17150  DCARv3_Chr3  13262128   \n",
       "0        1fe502eb-b72d-4720-8b6b-8905986876f3:1-4932  DCARv3_Chr3  55479673   \n",
       "0    328ef23f-1ebb-43b9-a01d-329e58159e42:1655-13665  DCARv3_Chr3  55479676   \n",
       "10   c89a6c1c-495b-4c98-bcb1-376e6b1b3fb4:1700-11976  DCARv3_Chr3  55479676   \n",
       "51  7e4c3981-29d5-40a6-aad0-59e1e9322d19:11704-22652  DCARv3_Chr3  55479676   \n",
       "65   9b81e66c-0ef1-4afa-80f5-637162e9be71:4549-17150  DCARv3_Chr3  55479676   \n",
       "19   c89a6c1c-495b-4c98-bcb1-376e6b1b3fb4:1700-11976  DCARv3_Chr3  64241442   \n",
       "69  7e4c3981-29d5-40a6-aad0-59e1e9322d19:11704-22652  DCARv3_Chr3  64241442   \n",
       "90   9b81e66c-0ef1-4afa-80f5-637162e9be71:4549-17150  DCARv3_Chr3  64241541   \n",
       "36   9b81e66c-0ef1-4afa-80f5-637162e9be71:4549-17150  DCARv3_Chr4  37588541   \n",
       "52   9b81e66c-0ef1-4afa-80f5-637162e9be71:4549-17150  DCARv3_Chr4  46025644   \n",
       "2   10e616cd-c2ca-42e2-a391-8078ac0d8956:21670-34393  DCARv3_Chr5   4416155   \n",
       "4   10e616cd-c2ca-42e2-a391-8078ac0d8956:21670-34393  DCARv3_Chr5   4422739   \n",
       "0    255e5e59-5e10-49f6-9460-36d8ab9bfc97:2183-11806  DCARv3_Chr5   8888936   \n",
       "\n",
       "      end_te  length strain  \n",
       "0    2884063    4119      -  \n",
       "0    2884668    4685      -  \n",
       "1    2888128    4813      -  \n",
       "1    7423816    6006      +  \n",
       "0   24862059    4732      -  \n",
       "1   32973561    5588      -  \n",
       "2   32975637    6130      -  \n",
       "5   45822054    5510      -  \n",
       "6   45822962    4133      -  \n",
       "1   49097161    4025      -  \n",
       "0   12770518    5338      -  \n",
       "2   27046332    6260      -  \n",
       "13  32216454    4494      +  \n",
       "0   46102046    4177      +  \n",
       "1   52703860    5784      -  \n",
       "19  13267708    5580      +  \n",
       "25  13267694    5566      +  \n",
       "0   55484403    4730      +  \n",
       "0   55483962    4286      +  \n",
       "10  55484400    4724      +  \n",
       "51  55484392    4716      +  \n",
       "65  55484397    4721      +  \n",
       "19  64249295    7853      +  \n",
       "69  64249356    7914      +  \n",
       "90  64249356    7815      +  \n",
       "36  37592829    4288      +  \n",
       "52  46033154    7510      -  \n",
       "2    4421654    5499      -  \n",
       "4    4427743    5004      -  \n",
       "0    8893113    4177      +  "
      ]
     },
     "execution_count": 70,
     "metadata": {},
     "output_type": "execute_result"
    }
   ],
   "source": [
    "ni.head(30)"
   ]
  },
  {
   "cell_type": "code",
   "execution_count": null,
   "id": "889ed5a5-472d-4862-8cb3-5f98efe01a3f",
   "metadata": {},
   "outputs": [],
   "source": []
  }
 ],
 "metadata": {
  "kernelspec": {
   "display_name": "Python 3 (ipykernel)",
   "language": "python",
   "name": "python3"
  },
  "language_info": {
   "codemirror_mode": {
    "name": "ipython",
    "version": 3
   },
   "file_extension": ".py",
   "mimetype": "text/x-python",
   "name": "python",
   "nbconvert_exporter": "python",
   "pygments_lexer": "ipython3",
   "version": "3.10.12"
  }
 },
 "nbformat": 4,
 "nbformat_minor": 5
}
