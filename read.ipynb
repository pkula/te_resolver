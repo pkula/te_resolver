{
 "cells": [
  {
   "cell_type": "markdown",
   "id": "8aa228f6-1f9e-446b-bd3a-944ac913bc3e",
   "metadata": {},
   "source": [
    "# "
   ]
  },
  {
   "cell_type": "markdown",
   "id": "b56d31e2-34ca-480e-a32b-d70d6e6a3031",
   "metadata": {},
   "source": []
  },
  {
   "cell_type": "code",
   "execution_count": 1,
   "id": "899f03ac-d610-44cc-a35b-d8574027644c",
   "metadata": {},
   "outputs": [],
   "source": [
    "import pandas as pd\n",
    "from bioinfokit.analys import Fasta\n",
    "import os"
   ]
  },
  {
   "cell_type": "code",
   "execution_count": 2,
   "id": "fe2261af-9c56-4400-aeab-d929eb4d76c8",
   "metadata": {},
   "outputs": [],
   "source": [
    "ont = [\"K10B\", \"K10f\", \"LK_1.3.fasta\"]\n",
    "genome = \"\"\n",
    "te = \"Alex1_Alex3.fasta\""
   ]
  },
  {
   "cell_type": "code",
   "execution_count": 3,
   "id": "0f12a518-f50d-4a37-8810-9c791a61401e",
   "metadata": {},
   "outputs": [
    {
     "name": "stderr",
     "output_type": "stream",
     "text": [
      "[E::stk_seq] failed to open the input file/stream.\n"
     ]
    },
    {
     "name": "stdout",
     "output_type": "stream",
     "text": [
      "\n",
      "\n",
      "Building a new DB, current time: 03/19/2024 20:38:19\n",
      "New DB name:   /home/kira/test2/ont/K10B\n",
      "New DB title:  ont/K10B.fasta\n",
      "Sequence type: Nucleotide\n",
      "Deleted existing Nucleotide BLAST database named /home/kira/test2/ont/K10B\n",
      "Keep MBits: T\n",
      "Maximum file size: 1000000000B\n",
      "Adding sequences from FASTA; added 6939343 sequences in 211.099 seconds.\n",
      "\n",
      "\n",
      "\n",
      "\n",
      "Building a new DB, current time: 03/19/2024 20:41:52\n",
      "New DB name:   /home/kira/test2/ont/K10f\n",
      "New DB title:  ont/K10f.fasta\n",
      "Sequence type: Nucleotide\n",
      "Keep MBits: T\n",
      "Maximum file size: 1000000000B\n",
      "Adding sequences from FASTA; added 4775182 sequences in 141.251 seconds.\n",
      "\n",
      "\n",
      "\n",
      "\n",
      "Building a new DB, current time: 03/19/2024 20:44:14\n",
      "New DB name:   /home/kira/test2/ont/LK_1.3.fasta\n",
      "New DB title:  ont/LK_1.3.fasta.fasta\n",
      "Sequence type: Nucleotide\n",
      "Keep MBits: T\n",
      "Maximum file size: 1000000000B\n"
     ]
    },
    {
     "name": "stderr",
     "output_type": "stream",
     "text": [
      "BLAST options error: File ont/LK_1.3.fasta.fasta is empty\n",
      "Warning: [blastn] Number of threads was reduced to 8 to match the number of available CPUs\n",
      "FASTA-Reader: Ignoring invalid residues at position(s): On line 109: 14-60\n",
      "FASTA-Reader: Ignoring invalid residues at position(s): On line 110: 1-60\n",
      "FASTA-Reader: Ignoring invalid residues at position(s): On line 111: 1-47\n",
      "FASTA-Reader: Ignoring invalid residues at position(s): On line 114: 45-60\n",
      "FASTA-Reader: Ignoring invalid residues at position(s): On line 115: 1-60\n",
      "FASTA-Reader: Ignoring invalid residues at position(s): On line 116: 1-17\n",
      "FASTA-Reader: Ignoring invalid residues at position(s): On line 142: 15-60\n",
      "FASTA-Reader: Ignoring invalid residues at position(s): On line 143: 1-60\n",
      "FASTA-Reader: Ignoring invalid residues at position(s): On line 144: 1-60\n",
      "FASTA-Reader: Ignoring invalid residues at position(s): On line 145: 1-42\n",
      "Warning: [blastn] Number of threads was reduced to 8 to match the number of available CPUs\n",
      "FASTA-Reader: Ignoring invalid residues at position(s): On line 109: 14-60\n",
      "FASTA-Reader: Ignoring invalid residues at position(s): On line 110: 1-60\n",
      "FASTA-Reader: Ignoring invalid residues at position(s): On line 111: 1-47\n",
      "FASTA-Reader: Ignoring invalid residues at position(s): On line 114: 45-60\n",
      "FASTA-Reader: Ignoring invalid residues at position(s): On line 115: 1-60\n",
      "FASTA-Reader: Ignoring invalid residues at position(s): On line 116: 1-17\n",
      "FASTA-Reader: Ignoring invalid residues at position(s): On line 142: 15-60\n",
      "FASTA-Reader: Ignoring invalid residues at position(s): On line 143: 1-60\n",
      "FASTA-Reader: Ignoring invalid residues at position(s): On line 144: 1-60\n",
      "FASTA-Reader: Ignoring invalid residues at position(s): On line 145: 1-42\n",
      "Warning: [blastn] Number of threads was reduced to 8 to match the number of available CPUs\n",
      "BLAST Database error: No alias or index file found for nucleotide database [ont/LK_1.3.fasta] in search path [/home/kira/test2::]\n"
     ]
    }
   ],
   "source": [
    "for file in ont:\n",
    "    os.system(f\"seqtk seq -a ont/{file}.fastq.gz > ont/{file}.fasta\")\n",
    "#!seqtk seq -a ont/K10B.fastq.gz > ont/K10B.fasta\n",
    "for file in ont:\n",
    "    os.system(f\"makeblastdb -in ont/{file}.fasta -dbtype nucl -out ont/{file}\")\n",
    "#!makeblastdb -in ont/K10B.fasta -dbtype nucl -out ont/K10B\n",
    "!mkdir -p blast\n",
    "for file in ont:\n",
    "    os.system(f\"blastn -num_threads 20 -outfmt 6 -query te/{te} -db ont/{file} -out blast/TE_{file}.bl -dust no -perc_identity 0.9\")\n",
    "#!blastn -num_threads 20 -outfmt 6 -query te/Alex1_Alex3.fasta -db ont/K10B -out blast/Alex_K10B.bl -dust no -perc_identity 0.9"
   ]
  },
  {
   "cell_type": "code",
   "execution_count": 10,
   "id": "06ddf88f-d701-49bf-b227-08cb2b6813c0",
   "metadata": {},
   "outputs": [],
   "source": [
    "headers = ['qseqid', 'sseqid',  'pident', 'length', 'mismatch', 'gapopen', 'qstart', 'qend', 'sstart', 'send', 'expect value', 'bitscore']"
   ]
  },
  {
   "cell_type": "code",
   "execution_count": 11,
   "id": "6b7182f8-9ecc-43d9-ba3e-b7e7949eccfe",
   "metadata": {},
   "outputs": [],
   "source": [
    "headers_dict = {i[0]:i[1] for i in enumerate(headers)}"
   ]
  },
  {
   "cell_type": "code",
   "execution_count": 12,
   "id": "f9b47b71-3031-4dbe-b2c1-7ef44b19ce74",
   "metadata": {},
   "outputs": [],
   "source": [
    "def read_fasta(filename):\n",
    "    return pd.read_csv(filename, sep=\"\\t\", header=None).rename(headers_dict, axis=1)\n",
    "def save_fasta(df, filename):\n",
    "    df.to_csv(filename, sep='\\t', index=False, encoding='utf-8', header=False)"
   ]
  },
  {
   "cell_type": "code",
   "execution_count": 113,
   "id": "e52aeeca-15a7-402e-aac8-c4cc37db26fa",
   "metadata": {},
   "outputs": [],
   "source": [
    "data = read_fasta(\"blast/TE_K10B.bl\")"
   ]
  },
  {
   "cell_type": "code",
   "execution_count": 114,
   "id": "0a4c63dd-054b-48a0-a90d-9968f549318f",
   "metadata": {},
   "outputs": [],
   "source": [
    "alex1 = data[data.qseqid.str.contains('Alex1')]\n",
    "plus_alex1 = alex1[alex1.sstart < alex1.send]\n",
    "minus_alex1 = alex1[alex1.sstart > alex1.send]"
   ]
  },
  {
   "cell_type": "code",
   "execution_count": 115,
   "id": "9a79769b-012d-443a-8a4e-fcba677c3371",
   "metadata": {},
   "outputs": [],
   "source": [
    "alex3 = data[data.qseqid.str.contains('Alex3')]\n",
    "plus_alex3 = alex3[alex3.sstart < alex3.send]\n",
    "minus_alex3 = alex3[alex3.sstart > alex3.send]"
   ]
  },
  {
   "cell_type": "code",
   "execution_count": 116,
   "id": "2b017747-cf5b-4da5-9e71-dc5aaa9937fc",
   "metadata": {},
   "outputs": [
    {
     "data": {
      "text/plain": [
       "1732"
      ]
     },
     "execution_count": 116,
     "metadata": {},
     "output_type": "execute_result"
    }
   ],
   "source": [
    "len(alex1) + len(alex3)"
   ]
  },
  {
   "cell_type": "code",
   "execution_count": 117,
   "id": "789f32b2-c040-4e80-bd9a-9e1b26815a4d",
   "metadata": {},
   "outputs": [
    {
     "data": {
      "text/html": [
       "<div>\n",
       "<style scoped>\n",
       "    .dataframe tbody tr th:only-of-type {\n",
       "        vertical-align: middle;\n",
       "    }\n",
       "\n",
       "    .dataframe tbody tr th {\n",
       "        vertical-align: top;\n",
       "    }\n",
       "\n",
       "    .dataframe thead th {\n",
       "        text-align: right;\n",
       "    }\n",
       "</style>\n",
       "<table border=\"1\" class=\"dataframe\">\n",
       "  <thead>\n",
       "    <tr style=\"text-align: right;\">\n",
       "      <th></th>\n",
       "      <th>qseqid</th>\n",
       "      <th>sseqid</th>\n",
       "      <th>pident</th>\n",
       "      <th>length</th>\n",
       "      <th>mismatch</th>\n",
       "      <th>gapopen</th>\n",
       "      <th>qstart</th>\n",
       "      <th>qend</th>\n",
       "      <th>sstart</th>\n",
       "      <th>send</th>\n",
       "      <th>expect value</th>\n",
       "      <th>bitscore</th>\n",
       "    </tr>\n",
       "  </thead>\n",
       "  <tbody>\n",
       "    <tr>\n",
       "      <th>902</th>\n",
       "      <td>Alex1_chr1:18795335-18799058</td>\n",
       "      <td>2c40afb0-7c90-4ddf-847c-a587e291d4a9</td>\n",
       "      <td>94.235</td>\n",
       "      <td>2810</td>\n",
       "      <td>67</td>\n",
       "      <td>76</td>\n",
       "      <td>949</td>\n",
       "      <td>3724</td>\n",
       "      <td>2130</td>\n",
       "      <td>4878</td>\n",
       "      <td>0.0</td>\n",
       "      <td>4204.0</td>\n",
       "    </tr>\n",
       "    <tr>\n",
       "      <th>903</th>\n",
       "      <td>Alex1_chr1:18795335-18799058</td>\n",
       "      <td>2c40afb0-7c90-4ddf-847c-a587e291d4a9</td>\n",
       "      <td>95.327</td>\n",
       "      <td>535</td>\n",
       "      <td>7</td>\n",
       "      <td>15</td>\n",
       "      <td>421</td>\n",
       "      <td>949</td>\n",
       "      <td>612</td>\n",
       "      <td>1134</td>\n",
       "      <td>0.0</td>\n",
       "      <td>833.0</td>\n",
       "    </tr>\n",
       "  </tbody>\n",
       "</table>\n",
       "</div>"
      ],
      "text/plain": [
       "                           qseqid                                sseqid  \\\n",
       "902  Alex1_chr1:18795335-18799058  2c40afb0-7c90-4ddf-847c-a587e291d4a9   \n",
       "903  Alex1_chr1:18795335-18799058  2c40afb0-7c90-4ddf-847c-a587e291d4a9   \n",
       "\n",
       "     pident  length  mismatch  gapopen  qstart  qend  sstart  send  \\\n",
       "902  94.235    2810        67       76     949  3724    2130  4878   \n",
       "903  95.327     535         7       15     421   949     612  1134   \n",
       "\n",
       "     expect value  bitscore  \n",
       "902           0.0    4204.0  \n",
       "903           0.0     833.0  "
      ]
     },
     "execution_count": 117,
     "metadata": {},
     "output_type": "execute_result"
    }
   ],
   "source": [
    "plus_alex1.head(2)"
   ]
  },
  {
   "cell_type": "code",
   "execution_count": 118,
   "id": "88aaca33-b4fe-4df2-9124-674b9dd6d620",
   "metadata": {},
   "outputs": [],
   "source": [
    "bed_df = plus_alex1[['sseqid', 'sstart', 'send', 'qseqid']].sort_values(by=['sseqid', 'sstart', 'send'])\n"
   ]
  },
  {
   "cell_type": "code",
   "execution_count": 119,
   "id": "7c072aa5-0743-4c0c-aabe-bd39802741b9",
   "metadata": {},
   "outputs": [
    {
     "data": {
      "text/html": [
       "<div>\n",
       "<style scoped>\n",
       "    .dataframe tbody tr th:only-of-type {\n",
       "        vertical-align: middle;\n",
       "    }\n",
       "\n",
       "    .dataframe tbody tr th {\n",
       "        vertical-align: top;\n",
       "    }\n",
       "\n",
       "    .dataframe thead th {\n",
       "        text-align: right;\n",
       "    }\n",
       "</style>\n",
       "<table border=\"1\" class=\"dataframe\">\n",
       "  <thead>\n",
       "    <tr style=\"text-align: right;\">\n",
       "      <th></th>\n",
       "      <th>sseqid</th>\n",
       "      <th>sstart</th>\n",
       "      <th>send</th>\n",
       "      <th>qseqid</th>\n",
       "    </tr>\n",
       "  </thead>\n",
       "  <tbody>\n",
       "    <tr>\n",
       "      <th>1083</th>\n",
       "      <td>0033bcbe-f78a-48ec-9149-88b241b8febb</td>\n",
       "      <td>3445</td>\n",
       "      <td>3714</td>\n",
       "      <td>Alex1_chr1:18795335-18799058</td>\n",
       "    </tr>\n",
       "    <tr>\n",
       "      <th>1082</th>\n",
       "      <td>0033bcbe-f78a-48ec-9149-88b241b8febb</td>\n",
       "      <td>3445</td>\n",
       "      <td>4367</td>\n",
       "      <td>Alex1_chr1:18795335-18799058</td>\n",
       "    </tr>\n",
       "    <tr>\n",
       "      <th>1081</th>\n",
       "      <td>0033bcbe-f78a-48ec-9149-88b241b8febb</td>\n",
       "      <td>5341</td>\n",
       "      <td>8025</td>\n",
       "      <td>Alex1_chr1:18795335-18799058</td>\n",
       "    </tr>\n",
       "    <tr>\n",
       "      <th>1084</th>\n",
       "      <td>0033bcbe-f78a-48ec-9149-88b241b8febb</td>\n",
       "      <td>7757</td>\n",
       "      <td>8025</td>\n",
       "      <td>Alex1_chr1:18795335-18799058</td>\n",
       "    </tr>\n",
       "    <tr>\n",
       "      <th>1492</th>\n",
       "      <td>012fd23f-1632-4f4a-8428-eb3c56914692</td>\n",
       "      <td>36</td>\n",
       "      <td>256</td>\n",
       "      <td>Alex1_chr1:18795335-18799058</td>\n",
       "    </tr>\n",
       "  </tbody>\n",
       "</table>\n",
       "</div>"
      ],
      "text/plain": [
       "                                    sseqid  sstart  send  \\\n",
       "1083  0033bcbe-f78a-48ec-9149-88b241b8febb    3445  3714   \n",
       "1082  0033bcbe-f78a-48ec-9149-88b241b8febb    3445  4367   \n",
       "1081  0033bcbe-f78a-48ec-9149-88b241b8febb    5341  8025   \n",
       "1084  0033bcbe-f78a-48ec-9149-88b241b8febb    7757  8025   \n",
       "1492  012fd23f-1632-4f4a-8428-eb3c56914692      36   256   \n",
       "\n",
       "                            qseqid  \n",
       "1083  Alex1_chr1:18795335-18799058  \n",
       "1082  Alex1_chr1:18795335-18799058  \n",
       "1081  Alex1_chr1:18795335-18799058  \n",
       "1084  Alex1_chr1:18795335-18799058  \n",
       "1492  Alex1_chr1:18795335-18799058  "
      ]
     },
     "execution_count": 119,
     "metadata": {},
     "output_type": "execute_result"
    }
   ],
   "source": [
    "bed_df.head()"
   ]
  },
  {
   "cell_type": "code",
   "execution_count": 120,
   "id": "d4243b87-0db9-4e2a-97db-97b3cc3f3315",
   "metadata": {},
   "outputs": [],
   "source": [
    "save_fasta(bed_df, 'raw_first_blast.bed')"
   ]
  },
  {
   "cell_type": "code",
   "execution_count": 121,
   "id": "fb321156-0d3c-446a-98b2-f366fb1af632",
   "metadata": {},
   "outputs": [],
   "source": [
    "!bedtools merge -i raw_first_blast.bed -d 1500 -c 4 -o collapse  > first_blast.bed.merged"
   ]
  },
  {
   "cell_type": "code",
   "execution_count": 122,
   "id": "f65d15a1-3b41-4e6c-9178-e81155ebebbb",
   "metadata": {},
   "outputs": [],
   "source": [
    "merged = pd.read_csv(\n",
    "    \"first_blast.bed.merged\", sep=\"\\t\", header=None).rename(\n",
    "    {0:'sseqid', 1:'sstart', 2:'send', 3:'qseqid'}, axis=1\n",
    ")"
   ]
  },
  {
   "cell_type": "code",
   "execution_count": 123,
   "id": "3fe116b6-b087-4f6c-97d9-7c2328cfccfd",
   "metadata": {},
   "outputs": [
    {
     "data": {
      "text/plain": [
       "295"
      ]
     },
     "execution_count": 123,
     "metadata": {},
     "output_type": "execute_result"
    }
   ],
   "source": [
    "len(merged)"
   ]
  },
  {
   "cell_type": "code",
   "execution_count": 124,
   "id": "7909950e-a88e-44b5-943b-956cfe7a0a22",
   "metadata": {},
   "outputs": [
    {
     "data": {
      "text/html": [
       "<div>\n",
       "<style scoped>\n",
       "    .dataframe tbody tr th:only-of-type {\n",
       "        vertical-align: middle;\n",
       "    }\n",
       "\n",
       "    .dataframe tbody tr th {\n",
       "        vertical-align: top;\n",
       "    }\n",
       "\n",
       "    .dataframe thead th {\n",
       "        text-align: right;\n",
       "    }\n",
       "</style>\n",
       "<table border=\"1\" class=\"dataframe\">\n",
       "  <thead>\n",
       "    <tr style=\"text-align: right;\">\n",
       "      <th></th>\n",
       "      <th>sseqid</th>\n",
       "      <th>sstart</th>\n",
       "      <th>send</th>\n",
       "      <th>qseqid</th>\n",
       "    </tr>\n",
       "  </thead>\n",
       "  <tbody>\n",
       "    <tr>\n",
       "      <th>0</th>\n",
       "      <td>0033bcbe-f78a-48ec-9149-88b241b8febb</td>\n",
       "      <td>3445</td>\n",
       "      <td>8025</td>\n",
       "      <td>Alex1_chr1:18795335-18799058,Alex1_chr1:187953...</td>\n",
       "    </tr>\n",
       "    <tr>\n",
       "      <th>1</th>\n",
       "      <td>012fd23f-1632-4f4a-8428-eb3c56914692</td>\n",
       "      <td>36</td>\n",
       "      <td>433</td>\n",
       "      <td>Alex1_chr1:18795335-18799058,Alex1_chr1:187953...</td>\n",
       "    </tr>\n",
       "  </tbody>\n",
       "</table>\n",
       "</div>"
      ],
      "text/plain": [
       "                                 sseqid  sstart  send  \\\n",
       "0  0033bcbe-f78a-48ec-9149-88b241b8febb    3445  8025   \n",
       "1  012fd23f-1632-4f4a-8428-eb3c56914692      36   433   \n",
       "\n",
       "                                              qseqid  \n",
       "0  Alex1_chr1:18795335-18799058,Alex1_chr1:187953...  \n",
       "1  Alex1_chr1:18795335-18799058,Alex1_chr1:187953...  "
      ]
     },
     "execution_count": 124,
     "metadata": {},
     "output_type": "execute_result"
    }
   ],
   "source": [
    "merged.head(2)"
   ]
  },
  {
   "cell_type": "code",
   "execution_count": 212,
   "id": "02e0233a-19ed-4d71-b385-40ca6a8147c8",
   "metadata": {},
   "outputs": [],
   "source": [
    "filtered_first_bed = merged[(merged.send - merged.sstart) > 4000]"
   ]
  },
  {
   "cell_type": "code",
   "execution_count": 213,
   "id": "4c4710b2-41e6-4549-afba-ee5dd993f940",
   "metadata": {},
   "outputs": [],
   "source": [
    "pd.options.mode.copy_on_write = True\n",
    "filtered_first_bed['end'] = filtered_first_bed['send'] + 4000\n",
    "filtered_first_bed['start'] = filtered_first_bed['sstart'] - 4000\n",
    "save_fasta(filtered_first_bed[['sseqid', 'sstart', 'send']], 'normal.txt')\n"
   ]
  },
  {
   "cell_type": "code",
   "execution_count": 222,
   "id": "ad412052-27c2-4e07-8d77-5d78b515c642",
   "metadata": {},
   "outputs": [],
   "source": [
    "!seqtk subseq Alex_K10B.masked.fasta cutted2.txt > cutted_ont.fasta"
   ]
  },
  {
   "cell_type": "code",
   "execution_count": 215,
   "id": "5b294344-a5ba-4df9-9cff-276ce8dcf78f",
   "metadata": {},
   "outputs": [],
   "source": [
    "!bedtools maskfasta -fi filtered_ont.fasta -bed normal.txt -fo Alex_K10B.masked.fasta\n",
    "!seqkit fx2tab --length --name  Alex_K10B.masked.fasta > max_lenght.txt\n",
    "max_len = pd.read_csv(\n",
    "    'max_lenght.txt', sep=\"\\t\", header=None).rename(\n",
    "    {0:'sseqid', 1:'max_len'}, axis=1).sort_values(by=['sseqid'])"
   ]
  },
  {
   "cell_type": "code",
   "execution_count": 218,
   "id": "a2029c62-d667-477b-8910-d684f6c15cec",
   "metadata": {},
   "outputs": [],
   "source": [
    "#sseqid bo query to po prostu te w tym przypadku\n",
    "save_fasta(filtered_first_bed[['sseqid', 'start', 'end']], 'cutted.txt')\n",
    "\n",
    "mask_min = filtered_first_bed.start < 0\n",
    "filtered_first_bed.loc[mask_min, 'start'] = 0\n",
    "filtered_first_bed = pd.merge(filtered_first_bed, max_len, how='left', on=\"sseqid\")\n",
    "mask_max = filtered_first_bed.end > filtered_first_bed.max_len\n",
    "filtered_first_bed.loc[mask_max, 'end'] = filtered_first_bed.max_len\n",
    "save_fasta(filtered_first_bed[['sseqid', 'start', 'end']], 'cutted2.txt')\n"
   ]
  },
  {
   "cell_type": "code",
   "execution_count": 135,
   "id": "8ab61144-2ced-4c98-bee7-9e46338ae820",
   "metadata": {},
   "outputs": [],
   "source": [
    "!mv output.fasta new2.fasta"
   ]
  },
  {
   "cell_type": "markdown",
   "id": "58f71eb9-a776-4ebe-bac4-63a43bb2799e",
   "metadata": {},
   "source": [
    "# Second part of analysis"
   ]
  },
  {
   "cell_type": "code",
   "execution_count": 159,
   "id": "e7935b08-74ee-472a-ae00-b53123906844",
   "metadata": {},
   "outputs": [],
   "source": [
    "# Mask genome fasta\n",
    "# Blast Alex to genome\n",
    "#!blastn -num_threads 20 -outfmt 6 -query te/Alex1_Alex3.fasta -db genome/DCARv3.4 -out TE_genome.bl -perc_identity 0.8 -max_target_seqs 4\n",
    "tex = read_fasta(\"TE_genome.bl\")\n",
    "# Mask genome fasta and save"
   ]
  },
  {
   "cell_type": "code",
   "execution_count": 165,
   "id": "5ffe3513-a6d1-4e2b-bbc6-fff37c11b6ef",
   "metadata": {},
   "outputs": [
    {
     "name": "stdout",
     "output_type": "stream",
     "text": [
      "Error: malformed BED entry at line 1. Start was greater than end. Exiting.\n"
     ]
    }
   ],
   "source": [
    "#save_fasta(tex[[\"sseqid\", \"sstart\", \"send\"]], \"to_mask_genome.txt\")\n",
    "tex[\"start\"] = tex['sstart'].where(tex['sstart'] <= tex[\"send\"], other=tex['send'])\n",
    "tex[\"stop\"] = tex['sstart'].where(tex['sstart'] > tex[\"send\"], other=tex['send'])\n",
    "save_fasta(tex[[\"sseqid\", \"start\", \"end\"]], \"to_mask_genome.txt\")\n",
    "!bedtools maskfasta -fi genome/DCARv3.4.fa -bed to_mask_genome.txt -fo TE_genome.masked.fasta"
   ]
  },
  {
   "cell_type": "code",
   "execution_count": 181,
   "id": "72eee32b-d6dc-48b9-808e-fe9edee6e3ae",
   "metadata": {},
   "outputs": [
    {
     "data": {
      "text/plain": [
       "0     33630943\n",
       "1     33628329\n",
       "2     33630944\n",
       "3     33626408\n",
       "4      3170546\n",
       "5      3167932\n",
       "6      3166011\n",
       "7      3170546\n",
       "8      3643763\n",
       "9      3640954\n",
       "10     9941242\n",
       "11     9941242\n",
       "12     7058957\n",
       "13     7058957\n",
       "14     8891436\n",
       "15     8893386\n",
       "16      274398\n",
       "17     8888935\n",
       "18     8893386\n",
       "19    51008118\n",
       "20    51004338\n",
       "21    33449114\n",
       "22    51008118\n",
       "23    51003667\n",
       "24    33448294\n",
       "25    41118869\n",
       "26    50999547\n",
       "27    55484402\n",
       "28    42723505\n",
       "29    42725457\n",
       "30    55480622\n",
       "31    39559061\n",
       "32    55484403\n",
       "33    42721004\n",
       "34    55479950\n",
       "35    39557575\n",
       "36    42725457\n",
       "37    39557074\n",
       "38    46100369\n",
       "39    40035438\n",
       "40    46102319\n",
       "41    46097868\n",
       "42    46102319\n",
       "Name: sstart, dtype: int64"
      ]
     },
     "execution_count": 181,
     "metadata": {},
     "output_type": "execute_result"
    }
   ],
   "source": [
    "#okno = [record['sstart'], record['send'] if record['sstart'] >= record['send'] else None for record in tex]\n",
    "#df['Conditioned_Numbers'] = df['Numbers'].where(df['Numbers'] > threshold, other='Below Threshold')\n",
    "tex[\"start\"] = tex['sstart'].where(tex['sstart'] <= tex[\"send\"], other=tex['send'])\n",
    "tex[\"stop\"] = tex['sstart'].where(tex['sstart'] > tex[\"send\"], other=tex['send'])\n",
    "save_fasta(tex[[\"sseqid\", \"sstart\", \"send\"]], \"to_mask_genome.txt\")"
   ]
  },
  {
   "cell_type": "code",
   "execution_count": 220,
   "id": "98cccbc3-d446-420b-85b8-28ebb51d735c",
   "metadata": {
    "collapsed": true,
    "jupyter": {
     "outputs_hidden": true
    }
   },
   "outputs": [
    {
     "name": "stdout",
     "output_type": "stream",
     "text": [
      "\n",
      "\n",
      "Building a new DB, current time: 03/19/2024 12:33:22\n",
      "New DB name:   /home/kira/test2/genome/DCARv3.4\n",
      "New DB title:  genome/DCARv3.4.fa\n",
      "Sequence type: Nucleotide\n",
      "Keep MBits: T\n",
      "Maximum file size: 1000000000B\n",
      "Adding sequences from FASTA; added 9 sequences in 5.68707 seconds.\n",
      "\n",
      "\n"
     ]
    }
   ],
   "source": [
    "!makeblastdb -in genome/DCARv3.4.fa  -dbtype nucl -out genome/DCARv3.4"
   ]
  },
  {
   "cell_type": "code",
   "execution_count": 225,
   "id": "6e06d225-049b-43e1-8dfe-599b5ad2b05d",
   "metadata": {},
   "outputs": [
    {
     "name": "stdout",
     "output_type": "stream",
     "text": [
      "Warning: [blastn] Examining 5 or more matches is recommended\n",
      "Warning: [blastn] Number of threads was reduced to 8 to match the number of available CPUs\n"
     ]
    }
   ],
   "source": [
    "!blastn -num_threads 20 -outfmt 6 -query Alex_K10B.masked.fasta -db genome/DCARv3.4 -out Alex_K10B_genome_without_cut.bl -perc_identity 0.8 -max_target_seqs 4"
   ]
  },
  {
   "cell_type": "code",
   "execution_count": 127,
   "id": "8cc8dfb1-4ee0-4ab9-93c9-5fc3ceeb8925",
   "metadata": {},
   "outputs": [],
   "source": [
    "result = pd.read_csv(\"Alex_K10B_genome_without_cut2.bl\", sep=\"\\t\", header=None).rename(headers_dict, axis=1)"
   ]
  },
  {
   "cell_type": "code",
   "execution_count": 128,
   "id": "cf6baa6e-7641-48d3-808b-7f1a7b62ec79",
   "metadata": {},
   "outputs": [
    {
     "data": {
      "text/html": [
       "<div>\n",
       "<style scoped>\n",
       "    .dataframe tbody tr th:only-of-type {\n",
       "        vertical-align: middle;\n",
       "    }\n",
       "\n",
       "    .dataframe tbody tr th {\n",
       "        vertical-align: top;\n",
       "    }\n",
       "\n",
       "    .dataframe thead th {\n",
       "        text-align: right;\n",
       "    }\n",
       "</style>\n",
       "<table border=\"1\" class=\"dataframe\">\n",
       "  <thead>\n",
       "    <tr style=\"text-align: right;\">\n",
       "      <th></th>\n",
       "      <th>qseqid</th>\n",
       "      <th>sseqid</th>\n",
       "      <th>pident</th>\n",
       "      <th>length</th>\n",
       "      <th>mismatch</th>\n",
       "      <th>gapopen</th>\n",
       "      <th>qstart</th>\n",
       "      <th>qend</th>\n",
       "      <th>sstart</th>\n",
       "      <th>send</th>\n",
       "      <th>expect value</th>\n",
       "      <th>bitscore</th>\n",
       "    </tr>\n",
       "  </thead>\n",
       "  <tbody>\n",
       "    <tr>\n",
       "      <th>0</th>\n",
       "      <td>328ef23f-1ebb-43b9-a01d-329e58159e42:1655-13665</td>\n",
       "      <td>DCARv3_Chr3</td>\n",
       "      <td>91.896</td>\n",
       "      <td>4109</td>\n",
       "      <td>144</td>\n",
       "      <td>142</td>\n",
       "      <td>3</td>\n",
       "      <td>4000</td>\n",
       "      <td>55475646</td>\n",
       "      <td>55479676</td>\n",
       "      <td>0.000000e+00</td>\n",
       "      <td>5568.0</td>\n",
       "    </tr>\n",
       "    <tr>\n",
       "      <th>1</th>\n",
       "      <td>328ef23f-1ebb-43b9-a01d-329e58159e42:1655-13665</td>\n",
       "      <td>DCARv3_Chr3</td>\n",
       "      <td>90.789</td>\n",
       "      <td>4028</td>\n",
       "      <td>178</td>\n",
       "      <td>153</td>\n",
       "      <td>8098</td>\n",
       "      <td>12011</td>\n",
       "      <td>55483962</td>\n",
       "      <td>55487910</td>\n",
       "      <td>0.000000e+00</td>\n",
       "      <td>5204.0</td>\n",
       "    </tr>\n",
       "    <tr>\n",
       "      <th>2</th>\n",
       "      <td>328ef23f-1ebb-43b9-a01d-329e58159e42:1655-13665</td>\n",
       "      <td>DCARv3_Chr3</td>\n",
       "      <td>81.985</td>\n",
       "      <td>272</td>\n",
       "      <td>38</td>\n",
       "      <td>10</td>\n",
       "      <td>745</td>\n",
       "      <td>1010</td>\n",
       "      <td>63314975</td>\n",
       "      <td>63314709</td>\n",
       "      <td>1.710000e-54</td>\n",
       "      <td>220.0</td>\n",
       "    </tr>\n",
       "    <tr>\n",
       "      <th>3</th>\n",
       "      <td>328ef23f-1ebb-43b9-a01d-329e58159e42:1655-13665</td>\n",
       "      <td>DCARv3_Chr3</td>\n",
       "      <td>80.435</td>\n",
       "      <td>230</td>\n",
       "      <td>33</td>\n",
       "      <td>8</td>\n",
       "      <td>727</td>\n",
       "      <td>950</td>\n",
       "      <td>44998433</td>\n",
       "      <td>44998210</td>\n",
       "      <td>8.140000e-38</td>\n",
       "      <td>165.0</td>\n",
       "    </tr>\n",
       "    <tr>\n",
       "      <th>4</th>\n",
       "      <td>328ef23f-1ebb-43b9-a01d-329e58159e42:1655-13665</td>\n",
       "      <td>DCARv3_Chr5</td>\n",
       "      <td>89.423</td>\n",
       "      <td>208</td>\n",
       "      <td>18</td>\n",
       "      <td>3</td>\n",
       "      <td>745</td>\n",
       "      <td>950</td>\n",
       "      <td>9000422</td>\n",
       "      <td>9000627</td>\n",
       "      <td>3.630000e-66</td>\n",
       "      <td>259.0</td>\n",
       "    </tr>\n",
       "  </tbody>\n",
       "</table>\n",
       "</div>"
      ],
      "text/plain": [
       "                                            qseqid       sseqid  pident  \\\n",
       "0  328ef23f-1ebb-43b9-a01d-329e58159e42:1655-13665  DCARv3_Chr3  91.896   \n",
       "1  328ef23f-1ebb-43b9-a01d-329e58159e42:1655-13665  DCARv3_Chr3  90.789   \n",
       "2  328ef23f-1ebb-43b9-a01d-329e58159e42:1655-13665  DCARv3_Chr3  81.985   \n",
       "3  328ef23f-1ebb-43b9-a01d-329e58159e42:1655-13665  DCARv3_Chr3  80.435   \n",
       "4  328ef23f-1ebb-43b9-a01d-329e58159e42:1655-13665  DCARv3_Chr5  89.423   \n",
       "\n",
       "   length  mismatch  gapopen  qstart   qend    sstart      send  expect value  \\\n",
       "0    4109       144      142       3   4000  55475646  55479676  0.000000e+00   \n",
       "1    4028       178      153    8098  12011  55483962  55487910  0.000000e+00   \n",
       "2     272        38       10     745   1010  63314975  63314709  1.710000e-54   \n",
       "3     230        33        8     727    950  44998433  44998210  8.140000e-38   \n",
       "4     208        18        3     745    950   9000422   9000627  3.630000e-66   \n",
       "\n",
       "   bitscore  \n",
       "0    5568.0  \n",
       "1    5204.0  \n",
       "2     220.0  \n",
       "3     165.0  \n",
       "4     259.0  "
      ]
     },
     "execution_count": 128,
     "metadata": {},
     "output_type": "execute_result"
    }
   ],
   "source": [
    "result.head()"
   ]
  },
  {
   "cell_type": "code",
   "execution_count": 129,
   "id": "82adf909-a838-4836-871a-6b6a60d140ff",
   "metadata": {},
   "outputs": [
    {
     "data": {
      "text/plain": [
       "2489"
      ]
     },
     "execution_count": 129,
     "metadata": {},
     "output_type": "execute_result"
    }
   ],
   "source": [
    "len(result.send)"
   ]
  },
  {
   "cell_type": "code",
   "execution_count": 130,
   "id": "3d5eae64-5edc-435a-acef-a8fc9247e456",
   "metadata": {},
   "outputs": [],
   "source": [
    "def create_raport(df):\n",
    "    df = df.sort_values(by=['sseqid', 'sstart', 'send'])\n",
    "    start_te = df.send[:-1]\n",
    "    start_te = start_te.reset_index(drop=True)\n",
    "    end_te = df.sstart[1:]\n",
    "    end_te = end_te.reset_index(drop=True)\n",
    "    return pd.DataFrame({'qseqid':df.qseqid.values[0], 'sseqid':df.sseqid.values[0], 'start_te': start_te, 'end_te': end_te})\n",
    "\n",
    "series_list = []\n",
    "for qseqid in result.qseqid.unique():\n",
    "    okno = result[result.qseqid == qseqid]\n",
    "    for sseqid in okno.sseqid.unique():\n",
    "        okno2 = okno[(okno.sseqid == sseqid)]\n",
    "        df = create_raport(okno2)\n",
    "        series_list.append(df)\n"
   ]
  },
  {
   "cell_type": "code",
   "execution_count": 131,
   "id": "1465916e-79f6-49b7-99ed-24069d1cc9ca",
   "metadata": {},
   "outputs": [],
   "source": [
    "result = pd.concat(series_list)\n",
    "result.to_csv(\"report2\", sep='\\t', index=False, encoding='utf-8', header=False)"
   ]
  },
  {
   "cell_type": "markdown",
   "id": "a8f30672-ba74-4567-9178-ec099c2d4f79",
   "metadata": {},
   "source": []
  },
  {
   "cell_type": "code",
   "execution_count": 137,
   "id": "64507372-a39f-41c1-a820-b194efcdf598",
   "metadata": {},
   "outputs": [
    {
     "data": {
      "text/plain": [
       "2393"
      ]
     },
     "execution_count": 137,
     "metadata": {},
     "output_type": "execute_result"
    }
   ],
   "source": [
    "len(result.end_te - result.start_te)"
   ]
  },
  {
   "cell_type": "code",
   "execution_count": 141,
   "id": "5a895ac8-182c-4b45-bcec-d88e2c67c826",
   "metadata": {},
   "outputs": [],
   "source": [
    "okno = result\n",
    "okno['length'] = okno.end_te - okno.start_te"
   ]
  },
  {
   "cell_type": "code",
   "execution_count": 142,
   "id": "7535b3f7-d63b-4220-a5df-bab7843a82b5",
   "metadata": {},
   "outputs": [],
   "source": [
    "okno.to_csv(\"okno2\", sep='\\t', index=False, encoding='utf-8', header=True) # i add header"
   ]
  },
  {
   "cell_type": "code",
   "execution_count": 145,
   "id": "fade272e-7a43-4405-acd0-8514325ad979",
   "metadata": {},
   "outputs": [],
   "source": [
    "finish = okno[(okno.length < 7000) & (okno.length > 3500)]"
   ]
  },
  {
   "cell_type": "code",
   "execution_count": 149,
   "id": "6b68fcac-044b-4cbc-b777-7e355133fc0c",
   "metadata": {},
   "outputs": [],
   "source": [
    "save_fasta(finish, 'finish')"
   ]
  },
  {
   "cell_type": "code",
   "execution_count": 151,
   "id": "1f2f50c7-f777-40f2-8a59-f32598b557a0",
   "metadata": {},
   "outputs": [],
   "source": [
    "ni = finish.sort_values(by=['sseqid', 'start_te'])"
   ]
  },
  {
   "cell_type": "code",
   "execution_count": 157,
   "id": "68af56ae-4b2f-4002-b250-d7677a9ec08d",
   "metadata": {},
   "outputs": [
    {
     "data": {
      "text/html": [
       "<div>\n",
       "<style scoped>\n",
       "    .dataframe tbody tr th:only-of-type {\n",
       "        vertical-align: middle;\n",
       "    }\n",
       "\n",
       "    .dataframe tbody tr th {\n",
       "        vertical-align: top;\n",
       "    }\n",
       "\n",
       "    .dataframe thead th {\n",
       "        text-align: right;\n",
       "    }\n",
       "</style>\n",
       "<table border=\"1\" class=\"dataframe\">\n",
       "  <thead>\n",
       "    <tr style=\"text-align: right;\">\n",
       "      <th></th>\n",
       "      <th>qseqid</th>\n",
       "      <th>sseqid</th>\n",
       "      <th>start_te</th>\n",
       "      <th>end_te</th>\n",
       "      <th>length</th>\n",
       "    </tr>\n",
       "  </thead>\n",
       "  <tbody>\n",
       "    <tr>\n",
       "      <th>1</th>\n",
       "      <td>328ef23f-1ebb-43b9-a01d-329e58159e42:1655-13665</td>\n",
       "      <td>DCARv3_Chr3</td>\n",
       "      <td>55479676</td>\n",
       "      <td>55483962</td>\n",
       "      <td>4286</td>\n",
       "    </tr>\n",
       "    <tr>\n",
       "      <th>5</th>\n",
       "      <td>704088c5-6d42-48cd-9194-46b372ca3c70:1431-13987</td>\n",
       "      <td>DCARv3_Chr2</td>\n",
       "      <td>27040072</td>\n",
       "      <td>27046332</td>\n",
       "      <td>6260</td>\n",
       "    </tr>\n",
       "    <tr>\n",
       "      <th>16</th>\n",
       "      <td>704088c5-6d42-48cd-9194-46b372ca3c70:1431-13987</td>\n",
       "      <td>DCARv3_Chr2</td>\n",
       "      <td>32077888</td>\n",
       "      <td>32081616</td>\n",
       "      <td>3728</td>\n",
       "    </tr>\n",
       "    <tr>\n",
       "      <th>25</th>\n",
       "      <td>704088c5-6d42-48cd-9194-46b372ca3c70:1431-13987</td>\n",
       "      <td>DCARv3_Chr2</td>\n",
       "      <td>32211960</td>\n",
       "      <td>32216454</td>\n",
       "      <td>4494</td>\n",
       "    </tr>\n",
       "    <tr>\n",
       "      <th>27</th>\n",
       "      <td>704088c5-6d42-48cd-9194-46b372ca3c70:1431-13987</td>\n",
       "      <td>DCARv3_Chr2</td>\n",
       "      <td>32378020</td>\n",
       "      <td>32381751</td>\n",
       "      <td>3731</td>\n",
       "    </tr>\n",
       "    <tr>\n",
       "      <th>7</th>\n",
       "      <td>98c0c670-f831-449a-a2d7-6b50aad7d341:308-12808</td>\n",
       "      <td>DCARv3_Chr1</td>\n",
       "      <td>45816544</td>\n",
       "      <td>45822054</td>\n",
       "      <td>5510</td>\n",
       "    </tr>\n",
       "    <tr>\n",
       "      <th>8</th>\n",
       "      <td>98c0c670-f831-449a-a2d7-6b50aad7d341:308-12808</td>\n",
       "      <td>DCARv3_Chr1</td>\n",
       "      <td>45818829</td>\n",
       "      <td>45822962</td>\n",
       "      <td>4133</td>\n",
       "    </tr>\n",
       "    <tr>\n",
       "      <th>4</th>\n",
       "      <td>cc3fff78-da65-4c38-8572-20a8d9cd7a6c:5431-17936</td>\n",
       "      <td>DCARv3_Chr5</td>\n",
       "      <td>18498187</td>\n",
       "      <td>18502233</td>\n",
       "      <td>4046</td>\n",
       "    </tr>\n",
       "    <tr>\n",
       "      <th>5</th>\n",
       "      <td>cc3fff78-da65-4c38-8572-20a8d9cd7a6c:5431-17936</td>\n",
       "      <td>DCARv3_Chr2</td>\n",
       "      <td>20220379</td>\n",
       "      <td>20226348</td>\n",
       "      <td>5969</td>\n",
       "    </tr>\n",
       "    <tr>\n",
       "      <th>25</th>\n",
       "      <td>c89a6c1c-495b-4c98-bcb1-376e6b1b3fb4:1700-11976</td>\n",
       "      <td>DCARv3_Chr3</td>\n",
       "      <td>55479676</td>\n",
       "      <td>55484400</td>\n",
       "      <td>4724</td>\n",
       "    </tr>\n",
       "    <tr>\n",
       "      <th>1</th>\n",
       "      <td>7e4c3981-29d5-40a6-aad0-59e1e9322d19:11704-22652</td>\n",
       "      <td>DCARv3_Chr3</td>\n",
       "      <td>556523</td>\n",
       "      <td>560128</td>\n",
       "      <td>3605</td>\n",
       "    </tr>\n",
       "    <tr>\n",
       "      <th>44</th>\n",
       "      <td>7e4c3981-29d5-40a6-aad0-59e1e9322d19:11704-22652</td>\n",
       "      <td>DCARv3_Chr3</td>\n",
       "      <td>13262128</td>\n",
       "      <td>13267708</td>\n",
       "      <td>5580</td>\n",
       "    </tr>\n",
       "    <tr>\n",
       "      <th>77</th>\n",
       "      <td>7e4c3981-29d5-40a6-aad0-59e1e9322d19:11704-22652</td>\n",
       "      <td>DCARv3_Chr3</td>\n",
       "      <td>43111824</td>\n",
       "      <td>43117823</td>\n",
       "      <td>5999</td>\n",
       "    </tr>\n",
       "    <tr>\n",
       "      <th>114</th>\n",
       "      <td>7e4c3981-29d5-40a6-aad0-59e1e9322d19:11704-22652</td>\n",
       "      <td>DCARv3_Chr3</td>\n",
       "      <td>55479676</td>\n",
       "      <td>55484392</td>\n",
       "      <td>4716</td>\n",
       "    </tr>\n",
       "    <tr>\n",
       "      <th>13</th>\n",
       "      <td>7e4c3981-29d5-40a6-aad0-59e1e9322d19:11704-22652</td>\n",
       "      <td>DCARv3_Chr7</td>\n",
       "      <td>3683067</td>\n",
       "      <td>3687437</td>\n",
       "      <td>4370</td>\n",
       "    </tr>\n",
       "    <tr>\n",
       "      <th>66</th>\n",
       "      <td>7e4c3981-29d5-40a6-aad0-59e1e9322d19:11704-22652</td>\n",
       "      <td>DCARv3_Chr7</td>\n",
       "      <td>29283413</td>\n",
       "      <td>29289475</td>\n",
       "      <td>6062</td>\n",
       "    </tr>\n",
       "    <tr>\n",
       "      <th>1</th>\n",
       "      <td>9b81e66c-0ef1-4afa-80f5-637162e9be71:4549-17150</td>\n",
       "      <td>DCARv3_Chr3</td>\n",
       "      <td>556536</td>\n",
       "      <td>560112</td>\n",
       "      <td>3576</td>\n",
       "    </tr>\n",
       "    <tr>\n",
       "      <th>11</th>\n",
       "      <td>9b81e66c-0ef1-4afa-80f5-637162e9be71:4549-17150</td>\n",
       "      <td>DCARv3_Chr3</td>\n",
       "      <td>2750440</td>\n",
       "      <td>2756425</td>\n",
       "      <td>5985</td>\n",
       "    </tr>\n",
       "    <tr>\n",
       "      <th>59</th>\n",
       "      <td>9b81e66c-0ef1-4afa-80f5-637162e9be71:4549-17150</td>\n",
       "      <td>DCARv3_Chr3</td>\n",
       "      <td>13262128</td>\n",
       "      <td>13267694</td>\n",
       "      <td>5566</td>\n",
       "    </tr>\n",
       "    <tr>\n",
       "      <th>102</th>\n",
       "      <td>9b81e66c-0ef1-4afa-80f5-637162e9be71:4549-17150</td>\n",
       "      <td>DCARv3_Chr3</td>\n",
       "      <td>43111905</td>\n",
       "      <td>43117492</td>\n",
       "      <td>5587</td>\n",
       "    </tr>\n",
       "    <tr>\n",
       "      <th>124</th>\n",
       "      <td>9b81e66c-0ef1-4afa-80f5-637162e9be71:4549-17150</td>\n",
       "      <td>DCARv3_Chr3</td>\n",
       "      <td>46616936</td>\n",
       "      <td>46620680</td>\n",
       "      <td>3744</td>\n",
       "    </tr>\n",
       "    <tr>\n",
       "      <th>153</th>\n",
       "      <td>9b81e66c-0ef1-4afa-80f5-637162e9be71:4549-17150</td>\n",
       "      <td>DCARv3_Chr3</td>\n",
       "      <td>55479676</td>\n",
       "      <td>55484397</td>\n",
       "      <td>4721</td>\n",
       "    </tr>\n",
       "    <tr>\n",
       "      <th>16</th>\n",
       "      <td>9b81e66c-0ef1-4afa-80f5-637162e9be71:4549-17150</td>\n",
       "      <td>DCARv3_Chr7</td>\n",
       "      <td>3682961</td>\n",
       "      <td>3687527</td>\n",
       "      <td>4566</td>\n",
       "    </tr>\n",
       "    <tr>\n",
       "      <th>85</th>\n",
       "      <td>9b81e66c-0ef1-4afa-80f5-637162e9be71:4549-17150</td>\n",
       "      <td>DCARv3_Chr7</td>\n",
       "      <td>29283519</td>\n",
       "      <td>29289385</td>\n",
       "      <td>5866</td>\n",
       "    </tr>\n",
       "    <tr>\n",
       "      <th>68</th>\n",
       "      <td>9b81e66c-0ef1-4afa-80f5-637162e9be71:4549-17150</td>\n",
       "      <td>DCARv3_Chr4</td>\n",
       "      <td>37588541</td>\n",
       "      <td>37592829</td>\n",
       "      <td>4288</td>\n",
       "    </tr>\n",
       "    <tr>\n",
       "      <th>95</th>\n",
       "      <td>9b81e66c-0ef1-4afa-80f5-637162e9be71:4549-17150</td>\n",
       "      <td>DCARv3_Chr4</td>\n",
       "      <td>43218217</td>\n",
       "      <td>43224365</td>\n",
       "      <td>6148</td>\n",
       "    </tr>\n",
       "    <tr>\n",
       "      <th>102</th>\n",
       "      <td>9b81e66c-0ef1-4afa-80f5-637162e9be71:4549-17150</td>\n",
       "      <td>DCARv3_Chr4</td>\n",
       "      <td>44699629</td>\n",
       "      <td>44703476</td>\n",
       "      <td>3847</td>\n",
       "    </tr>\n",
       "    <tr>\n",
       "      <th>86</th>\n",
       "      <td>9b81e66c-0ef1-4afa-80f5-637162e9be71:4549-17150</td>\n",
       "      <td>DCARv3_Chr5</td>\n",
       "      <td>28616261</td>\n",
       "      <td>28621267</td>\n",
       "      <td>5006</td>\n",
       "    </tr>\n",
       "    <tr>\n",
       "      <th>95</th>\n",
       "      <td>9b81e66c-0ef1-4afa-80f5-637162e9be71:4549-17150</td>\n",
       "      <td>DCARv3_Chr5</td>\n",
       "      <td>29350627</td>\n",
       "      <td>29355943</td>\n",
       "      <td>5316</td>\n",
       "    </tr>\n",
       "    <tr>\n",
       "      <th>1</th>\n",
       "      <td>bed145d3-72e9-4002-ba69-3a2a28356019:1-9105</td>\n",
       "      <td>DCARv3_Chr1</td>\n",
       "      <td>49093136</td>\n",
       "      <td>49097161</td>\n",
       "      <td>4025</td>\n",
       "    </tr>\n",
       "  </tbody>\n",
       "</table>\n",
       "</div>"
      ],
      "text/plain": [
       "                                               qseqid       sseqid  start_te  \\\n",
       "1     328ef23f-1ebb-43b9-a01d-329e58159e42:1655-13665  DCARv3_Chr3  55479676   \n",
       "5     704088c5-6d42-48cd-9194-46b372ca3c70:1431-13987  DCARv3_Chr2  27040072   \n",
       "16    704088c5-6d42-48cd-9194-46b372ca3c70:1431-13987  DCARv3_Chr2  32077888   \n",
       "25    704088c5-6d42-48cd-9194-46b372ca3c70:1431-13987  DCARv3_Chr2  32211960   \n",
       "27    704088c5-6d42-48cd-9194-46b372ca3c70:1431-13987  DCARv3_Chr2  32378020   \n",
       "7      98c0c670-f831-449a-a2d7-6b50aad7d341:308-12808  DCARv3_Chr1  45816544   \n",
       "8      98c0c670-f831-449a-a2d7-6b50aad7d341:308-12808  DCARv3_Chr1  45818829   \n",
       "4     cc3fff78-da65-4c38-8572-20a8d9cd7a6c:5431-17936  DCARv3_Chr5  18498187   \n",
       "5     cc3fff78-da65-4c38-8572-20a8d9cd7a6c:5431-17936  DCARv3_Chr2  20220379   \n",
       "25    c89a6c1c-495b-4c98-bcb1-376e6b1b3fb4:1700-11976  DCARv3_Chr3  55479676   \n",
       "1    7e4c3981-29d5-40a6-aad0-59e1e9322d19:11704-22652  DCARv3_Chr3    556523   \n",
       "44   7e4c3981-29d5-40a6-aad0-59e1e9322d19:11704-22652  DCARv3_Chr3  13262128   \n",
       "77   7e4c3981-29d5-40a6-aad0-59e1e9322d19:11704-22652  DCARv3_Chr3  43111824   \n",
       "114  7e4c3981-29d5-40a6-aad0-59e1e9322d19:11704-22652  DCARv3_Chr3  55479676   \n",
       "13   7e4c3981-29d5-40a6-aad0-59e1e9322d19:11704-22652  DCARv3_Chr7   3683067   \n",
       "66   7e4c3981-29d5-40a6-aad0-59e1e9322d19:11704-22652  DCARv3_Chr7  29283413   \n",
       "1     9b81e66c-0ef1-4afa-80f5-637162e9be71:4549-17150  DCARv3_Chr3    556536   \n",
       "11    9b81e66c-0ef1-4afa-80f5-637162e9be71:4549-17150  DCARv3_Chr3   2750440   \n",
       "59    9b81e66c-0ef1-4afa-80f5-637162e9be71:4549-17150  DCARv3_Chr3  13262128   \n",
       "102   9b81e66c-0ef1-4afa-80f5-637162e9be71:4549-17150  DCARv3_Chr3  43111905   \n",
       "124   9b81e66c-0ef1-4afa-80f5-637162e9be71:4549-17150  DCARv3_Chr3  46616936   \n",
       "153   9b81e66c-0ef1-4afa-80f5-637162e9be71:4549-17150  DCARv3_Chr3  55479676   \n",
       "16    9b81e66c-0ef1-4afa-80f5-637162e9be71:4549-17150  DCARv3_Chr7   3682961   \n",
       "85    9b81e66c-0ef1-4afa-80f5-637162e9be71:4549-17150  DCARv3_Chr7  29283519   \n",
       "68    9b81e66c-0ef1-4afa-80f5-637162e9be71:4549-17150  DCARv3_Chr4  37588541   \n",
       "95    9b81e66c-0ef1-4afa-80f5-637162e9be71:4549-17150  DCARv3_Chr4  43218217   \n",
       "102   9b81e66c-0ef1-4afa-80f5-637162e9be71:4549-17150  DCARv3_Chr4  44699629   \n",
       "86    9b81e66c-0ef1-4afa-80f5-637162e9be71:4549-17150  DCARv3_Chr5  28616261   \n",
       "95    9b81e66c-0ef1-4afa-80f5-637162e9be71:4549-17150  DCARv3_Chr5  29350627   \n",
       "1         bed145d3-72e9-4002-ba69-3a2a28356019:1-9105  DCARv3_Chr1  49093136   \n",
       "\n",
       "       end_te  length  \n",
       "1    55483962    4286  \n",
       "5    27046332    6260  \n",
       "16   32081616    3728  \n",
       "25   32216454    4494  \n",
       "27   32381751    3731  \n",
       "7    45822054    5510  \n",
       "8    45822962    4133  \n",
       "4    18502233    4046  \n",
       "5    20226348    5969  \n",
       "25   55484400    4724  \n",
       "1      560128    3605  \n",
       "44   13267708    5580  \n",
       "77   43117823    5999  \n",
       "114  55484392    4716  \n",
       "13    3687437    4370  \n",
       "66   29289475    6062  \n",
       "1      560112    3576  \n",
       "11    2756425    5985  \n",
       "59   13267694    5566  \n",
       "102  43117492    5587  \n",
       "124  46620680    3744  \n",
       "153  55484397    4721  \n",
       "16    3687527    4566  \n",
       "85   29289385    5866  \n",
       "68   37592829    4288  \n",
       "95   43224365    6148  \n",
       "102  44703476    3847  \n",
       "86   28621267    5006  \n",
       "95   29355943    5316  \n",
       "1    49097161    4025  "
      ]
     },
     "execution_count": 157,
     "metadata": {},
     "output_type": "execute_result"
    }
   ],
   "source": [
    "finish.head(30)"
   ]
  },
  {
   "cell_type": "code",
   "execution_count": null,
   "id": "889ed5a5-472d-4862-8cb3-5f98efe01a3f",
   "metadata": {},
   "outputs": [],
   "source": []
  }
 ],
 "metadata": {
  "kernelspec": {
   "display_name": "Python 3 (ipykernel)",
   "language": "python",
   "name": "python3"
  },
  "language_info": {
   "codemirror_mode": {
    "name": "ipython",
    "version": 3
   },
   "file_extension": ".py",
   "mimetype": "text/x-python",
   "name": "python",
   "nbconvert_exporter": "python",
   "pygments_lexer": "ipython3",
   "version": "3.9.12"
  }
 },
 "nbformat": 4,
 "nbformat_minor": 5
}
